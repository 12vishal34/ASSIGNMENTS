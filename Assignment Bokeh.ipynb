{
 "cells": [
  {
   "cell_type": "code",
   "execution_count": null,
   "id": "4def72b4-d257-410a-837d-68d9ea1d19b4",
   "metadata": {},
   "outputs": [],
   "source": [
    "Q1. How can you create a Bokeh plot using Python code?"
   ]
  },
  {
   "cell_type": "code",
   "execution_count": null,
   "id": "266c2edb-88f5-4276-8f93-ab38ac8458e8",
   "metadata": {},
   "outputs": [],
   "source": [
    "Answer :To create a Bokeh plot using Python code, you can use the bokeh.plotting module, which provides a figure() function that creates a new Bokeh plot. \n",
    "You can then add glyphs to the plot using glyph methods such as line(), circle(), or rect(), and customize the plot with options such as the title, axis labels, and legend.\n",
    "Finally, you can display the plot using the show() function or save it to a file using the save() function.\n",
    "\n",
    "\n",
    "\n"
   ]
  },
  {
   "cell_type": "code",
   "execution_count": null,
   "id": "784e67ae-0f75-4b9a-9666-0173f2d15efd",
   "metadata": {},
   "outputs": [],
   "source": [
    "Q2. What are glyphs in Bokeh, and how can you add them to a Bokeh plot? Explain with an example."
   ]
  },
  {
   "cell_type": "code",
   "execution_count": null,
   "id": "92a9c20c-980f-4435-854c-0b046821d554",
   "metadata": {},
   "outputs": [],
   "source": [
    "Answer: Glyphs in Bokeh are visual markers that represent data points in a plot, such as circles, squares, or lines.\n",
    "You can add glyphs to a Bokeh plot using the figure object and the corresponding glyph function, such as circle, square, or line.\n",
    "For example, to add circles to a scatter plot, you can use the circle function and pass the x and y coordinates of the data points, as well as the size and color of the circles."
   ]
  },
  {
   "cell_type": "code",
   "execution_count": null,
   "id": "7b043ef1-ae5c-4886-af51-82005ad41925",
   "metadata": {},
   "outputs": [],
   "source": [
    "Q3. How can you customize the appearance of a Bokeh plot, including the axes, title, and legend?"
   ]
  },
  {
   "cell_type": "code",
   "execution_count": null,
   "id": "016d1faa-362d-4b40-922a-c3fbb6dc8ee2",
   "metadata": {},
   "outputs": [],
   "source": [
    "Answer :To customize the appearance of a Bokeh plot, you can use the title, x_axis_label, y_axis_label, and legend attributes of the figure object. \n",
    "You can also customize the appearance of the axes using the axis attribute and apply custom styles to the plot using the style attribute. \n",
    "Finally, you can customize the appearance of the legend using the label_text_font_size and label_text_color attributes.\n",
    "\n",
    "\n",
    "\n"
   ]
  },
  {
   "cell_type": "code",
   "execution_count": null,
   "id": "c0cc448b-c2f8-4d46-ab89-230863155231",
   "metadata": {},
   "outputs": [],
   "source": [
    "Q4. What is a Bokeh server, and how can you use it to create interactive plots that can be updated in\n",
    "real time?"
   ]
  },
  {
   "cell_type": "code",
   "execution_count": null,
   "id": "8baec851-e442-464c-8241-fdc2bf13e74a",
   "metadata": {},
   "outputs": [],
   "source": [
    "Answer: Bokeh server is a server framework that allows you to create interactive data-driven applications. \n",
    "You can define a Bokeh plot with associated widgets and callbacks in a Python script. \n",
    "Running the Bokeh server will create a web application that serves the plot and responds to user events by executing the corresponding callbacks.\n",
    "This enables the creation of interactive plots that can be updated in real-time based on user input."
   ]
  },
  {
   "cell_type": "code",
   "execution_count": null,
   "id": "7846ba75-9aea-4006-9421-1b81b9777bc6",
   "metadata": {},
   "outputs": [],
   "source": [
    "Q5. How can you embed a Bokeh plot into a web page or dashboard using Flask or Django?"
   ]
  },
  {
   "cell_type": "code",
   "execution_count": null,
   "id": "0c8179bb-8f0e-4bc3-865c-d1c21c3084b1",
   "metadata": {},
   "outputs": [],
   "source": [
    "Answer : To embed a Bokeh plot into a web page or dashboard using Flask or Django, you can create a Bokeh plot in Python and save it as an HTML file using the bokeh.plotting.save() function.\n",
    "Then, you can create a route in your Flask or Django application to render the HTML file using the render_template() or render() function, respectively.\n",
    "Finally, in your HTML template, include the Bokeh plot using the script and div tags. The script tag will load the necessary JavaScript files, and the div tag will contain the Bokeh plot. \n",
    "This approach will allow you to create interactive visualizations for the web using Bokeh and integrate them into your Flask or Django web application or dashboard."
   ]
  },
  {
   "cell_type": "code",
   "execution_count": null,
   "id": "c631986c-6e80-46c7-b806-20318c304fc6",
   "metadata": {},
   "outputs": [],
   "source": []
  },
  {
   "cell_type": "code",
   "execution_count": null,
   "id": "2b5722e3-a00e-4110-ae31-7dc5965b19f7",
   "metadata": {},
   "outputs": [],
   "source": []
  },
  {
   "cell_type": "code",
   "execution_count": null,
   "id": "9fe5e32b-6358-4add-a8e5-93992310c548",
   "metadata": {},
   "outputs": [],
   "source": []
  },
  {
   "cell_type": "code",
   "execution_count": null,
   "id": "42fedcba-4be8-4e1d-b809-1117a0b30e9d",
   "metadata": {},
   "outputs": [],
   "source": []
  },
  {
   "cell_type": "code",
   "execution_count": null,
   "id": "e9d9750c-af48-4a80-86fd-e5c237e559b8",
   "metadata": {},
   "outputs": [],
   "source": []
  },
  {
   "cell_type": "code",
   "execution_count": null,
   "id": "f2f37fc6-71d4-4704-bb6e-9bc48f8bc726",
   "metadata": {},
   "outputs": [],
   "source": []
  }
 ],
 "metadata": {
  "kernelspec": {
   "display_name": "Python 3 (ipykernel)",
   "language": "python",
   "name": "python3"
  },
  "language_info": {
   "codemirror_mode": {
    "name": "ipython",
    "version": 3
   },
   "file_extension": ".py",
   "mimetype": "text/x-python",
   "name": "python",
   "nbconvert_exporter": "python",
   "pygments_lexer": "ipython3",
   "version": "3.10.6"
  }
 },
 "nbformat": 4,
 "nbformat_minor": 5
}
