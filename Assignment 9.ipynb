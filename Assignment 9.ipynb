{
 "cells": [
  {
   "cell_type": "code",
   "execution_count": null,
   "id": "eccef295-afeb-49c1-a6b0-71170b20f6a9",
   "metadata": {},
   "outputs": [],
   "source": [
    "Q1. What is Abstraction in OOps? Explain with an example."
   ]
  },
  {
   "cell_type": "code",
   "execution_count": null,
   "id": "bdb1a346-7ca7-4079-bd34-9e155e44de74",
   "metadata": {},
   "outputs": [],
   "source": [
    "Answer: Abstraction in python is defined as a process of handling complexity by hiding unnecessary information from the user.\n",
    "This is one of the core concepts of object-oriented programming (OOP) languages. \n",
    "That enables the user to implement even more complex logic on top of the provided abstraction without understanding or even thinking about all the hidden background/back-end complexity.\n",
    "\n"
   ]
  },
  {
   "cell_type": "code",
   "execution_count": 2,
   "id": "41583f5d-599a-4782-aa4a-51ea43612b46",
   "metadata": {},
   "outputs": [],
   "source": [
    "import abc\n",
    "class pw:\n",
    "    \n",
    "    @abc.abstractmethod\n",
    "    def students_details(self):\n",
    "        pass\n",
    "    \n",
    "    @abc.abstractmethod\n",
    "    def student_assignment(self):\n",
    "        pass\n",
    "    \n",
    "    @abc.abstractmethod\n",
    "    def student_marks(self):\n",
    "        pass"
   ]
  },
  {
   "cell_type": "code",
   "execution_count": 3,
   "id": "7bcbf689-a43f-4cd4-b3d1-3676d1202581",
   "metadata": {},
   "outputs": [],
   "source": [
    "class student_details(pw):\n",
    "    \n",
    "    def students_details(self):\n",
    "        return \"this is a method for taking students details\"\n",
    "    \n",
    "    def student_assignment(self):\n",
    "        return \"student assignment\""
   ]
  },
  {
   "cell_type": "code",
   "execution_count": 4,
   "id": "b7b18320-1c50-4292-bdd7-32f990e17d2f",
   "metadata": {},
   "outputs": [],
   "source": [
    "class data_science_maters(pw):\n",
    "    \n",
    "    def students_details(self):\n",
    "        return \"this will return a student details for data science masters \"\n",
    "    \n",
    "    def student_marks(self):\n",
    "        return \"this will give you a student marks in data science class \""
   ]
  },
  {
   "cell_type": "code",
   "execution_count": 5,
   "id": "c7717570-bd05-4413-b1fa-a1c871b2898b",
   "metadata": {},
   "outputs": [
    {
     "data": {
      "text/plain": [
       "'this will give you a student marks in data science class '"
      ]
     },
     "execution_count": 5,
     "metadata": {},
     "output_type": "execute_result"
    }
   ],
   "source": [
    "A = data_science_maters()class data_science_maters(pw):\n",
    "    \n",
    "    def students_details(self):\n",
    "        return \"this will return a student details for data science masters \"\n",
    "    \n",
    "    def student_marks(self):\n",
    "        return \"this will give you a student marks in data science class \"\n",
    "A.student_marks()"
   ]
  },
  {
   "cell_type": "code",
   "execution_count": 6,
   "id": "7f09b974-0010-49d9-bc7e-92145542dd70",
   "metadata": {},
   "outputs": [
    {
     "data": {
      "text/plain": [
       "'this is a method for taking students details'"
      ]
     },
     "execution_count": 6,
     "metadata": {},
     "output_type": "execute_result"
    }
   ],
   "source": [
    "B= student_details()\n",
    "B.students_details()"
   ]
  },
  {
   "cell_type": "code",
   "execution_count": null,
   "id": "69a9ea64-b230-4831-ae04-f201b9e91f09",
   "metadata": {},
   "outputs": [],
   "source": [
    "Q2. Differentiate between Abstraction and Encapsulation. Explain with an example."
   ]
  },
  {
   "cell_type": "code",
   "execution_count": null,
   "id": "7e031822-a59b-45c2-87ff-741420c101b8",
   "metadata": {},
   "outputs": [],
   "source": [
    "Answer: Abstraction is the process of identifying and focusing on the essential features of an object or system, while ignoring the details that are not important for its use. \n",
    "It is a way of modeling complex systems by creating simpler, higher-level representations that capture the essential characteristics of the system without getting bogged down in the details.\n",
    "\n",
    "Encapsulation, on the other hand, is the process of hiding the implementation details of an object or system, so that they cannot be accessed or modified directly by external code.\n",
    "It is a way of protecting the internal state of an object and ensuring that it can only be accessed and modified through well-defined interfaces.\n",
    "\n",
    "Abstraction Example:\n",
    "    "
   ]
  },
  {
   "cell_type": "code",
   "execution_count": 7,
   "id": "78f38a18-3c16-44a2-a6e6-83d23450be88",
   "metadata": {},
   "outputs": [],
   "source": [
    "import abc\n",
    "class pw:\n",
    "    \n",
    "    @abc.abstractmethod\n",
    "    def students_details(self):\n",
    "        pass\n",
    "    \n",
    "    @abc.abstractmethod\n",
    "    def student_assignment(self):\n",
    "        pass\n",
    "    \n",
    "    @abc.abstractmethod\n",
    "    def student_marks(self):\n",
    "        pass"
   ]
  },
  {
   "cell_type": "code",
   "execution_count": 8,
   "id": "e7aa1bcd-e83f-41f7-8d3b-b00866dc9c37",
   "metadata": {},
   "outputs": [],
   "source": [
    "class student_details(pw):\n",
    "    \n",
    "    def students_details(self):\n",
    "        return \"this is a method for taking students details\"\n",
    "    \n",
    "    def student_assignment(self):\n",
    "        return \"student assignment\""
   ]
  },
  {
   "cell_type": "code",
   "execution_count": 9,
   "id": "87dab78e-43b7-49bb-aa88-632571adfd9d",
   "metadata": {},
   "outputs": [],
   "source": [
    "class data_science_maters(pw):\n",
    "    \n",
    "    def students_details(self):\n",
    "        return \"this will return a student details for data science masters \"\n",
    "    \n",
    "    def student_marks(self):\n",
    "        return \"this will give you a student marks in data science class \""
   ]
  },
  {
   "cell_type": "code",
   "execution_count": 10,
   "id": "b9919f41-9223-4240-9aff-efe588d7566a",
   "metadata": {},
   "outputs": [
    {
     "data": {
      "text/plain": [
       "'this will give you a student marks in data science class '"
      ]
     },
     "execution_count": 10,
     "metadata": {},
     "output_type": "execute_result"
    }
   ],
   "source": [
    "A = data_science_maters()\n",
    "A.student_marks()"
   ]
  },
  {
   "cell_type": "code",
   "execution_count": 11,
   "id": "71f1c7fe-87fd-44a3-a892-37bc1f3a1591",
   "metadata": {},
   "outputs": [
    {
     "data": {
      "text/plain": [
       "'this is a method for taking students details'"
      ]
     },
     "execution_count": 11,
     "metadata": {},
     "output_type": "execute_result"
    }
   ],
   "source": [
    "B= student_details()\n",
    "B.students_details()"
   ]
  },
  {
   "cell_type": "code",
   "execution_count": 16,
   "id": "483655ae-6e78-4d89-a30d-546e643e60ff",
   "metadata": {},
   "outputs": [],
   "source": [
    "class bank_account : \n",
    "    def __init__(self , balance) : \n",
    "        self.__balanace = balance \n",
    "        \n",
    "    def deposit(self , amount) : \n",
    "        self.__balanace = self.__balanace + amount\n",
    "        \n",
    "    def withdaw(self ,amount) : \n",
    "        if self.__balanace >= amount :\n",
    "            self.__balanace = self.__balanace - amount\n",
    "            return True\n",
    "        else : \n",
    "            return False\n",
    "    \n",
    "    def get_banalnce(self):\n",
    "        return self.__balanace\n",
    "                  "
   ]
  },
  {
   "cell_type": "code",
   "execution_count": 17,
   "id": "6013bfec-dcea-4c9e-b76b-8ea9abf3e6bd",
   "metadata": {},
   "outputs": [],
   "source": [
    "vishal = bank_account(1000)"
   ]
  },
  {
   "cell_type": "code",
   "execution_count": 18,
   "id": "7a6fe9e4-9fd0-4151-be78-0afd8950a2c8",
   "metadata": {},
   "outputs": [],
   "source": [
    "vishal.deposit(5000)"
   ]
  },
  {
   "cell_type": "code",
   "execution_count": 19,
   "id": "0d8c6502-673f-4aed-a116-de1570313535",
   "metadata": {},
   "outputs": [
    {
     "data": {
      "text/plain": [
       "6000"
      ]
     },
     "execution_count": 19,
     "metadata": {},
     "output_type": "execute_result"
    }
   ],
   "source": [
    "vishal.get_banalnce()"
   ]
  },
  {
   "cell_type": "code",
   "execution_count": null,
   "id": "131b0c5b-642b-4dcb-8cbc-d6cfaef4968e",
   "metadata": {},
   "outputs": [],
   "source": [
    "Q3. What is abc module in python? Why is it used?"
   ]
  },
  {
   "cell_type": "code",
   "execution_count": null,
   "id": "90e34e42-1548-4033-9b9c-27104085fdc6",
   "metadata": {},
   "outputs": [],
   "source": [
    "Answer: The abc module in Python stands for Abstract Base Classes.\n",
    "It is a built-in module that provides tools for defining abstract base classes. \n",
    "An abstract base class is a class that cannot be instantiated directly and is used as a template for other classes. \n",
    "It defines a set of methods that must be implemented by any subclass that derives from it, but it does not provide any implementation of these methods.\n",
    "\n",
    "\n",
    "The abc module is used to enforce a certain structure or behavior on a set of related classes. \n",
    "It helps ensure that all subclasses conform to a certain interface or behavior, and it provides a way to define a common API for a group of related classes."
   ]
  },
  {
   "cell_type": "code",
   "execution_count": null,
   "id": "f723e0f5-508e-4a09-aa95-d1a179d6ce3d",
   "metadata": {},
   "outputs": [],
   "source": [
    "Q4. How can we achieve data abstraction?"
   ]
  },
  {
   "cell_type": "code",
   "execution_count": null,
   "id": "1b4dcc4e-46be-4b90-b7c5-64d66af4f37a",
   "metadata": {},
   "outputs": [],
   "source": [
    "Answer: In object-oriented programming, data abstraction can be achieved through the use of abstract classes and interfaces.\n",
    "An abstract class is a class that cannot be instantiated directly but is used as a base class for other classes. \n",
    "It defines a set of abstract methods that must be implemented by any concrete subclass. \n",
    "Abstract classes can be used to define a common interface for a set of related classes, without specifying the details of their implementation.\n",
    "By defining an abstract class, we can ensure that any object that implements it provides a certain set of functionality, without specifying exactly how that functionality is implemented.\n",
    "\n",
    "Another way to achieve data abstraction is through the use of interfaces.\n",
    "An interface is similar to an abstract class, but it only defines the method signatures and does not provide any implementation. \n",
    "Any class that implements an interface must provide an implementation for all of its methods. \n",
    "Interfaces can be used to define a common set of methods that must be implemented by a set of related classes."
   ]
  },
  {
   "cell_type": "code",
   "execution_count": null,
   "id": "bdf561f9-c181-49b0-9e1d-7ee9db800220",
   "metadata": {},
   "outputs": [],
   "source": [
    "Q5. Can we create an instance of an abstract class? Explain your answer."
   ]
  },
  {
   "cell_type": "code",
   "execution_count": null,
   "id": "fe9294c1-522a-4a78-8754-4fc25d2e7f31",
   "metadata": {},
   "outputs": [],
   "source": [
    "Answer: No, we cannot create an instance of an abstract class in Python or any other object-oriented programming language.\n",
    "\n",
    "An abstract class is a class that contains one or more abstract methods, which are methods that have a declaration but no implementation.\n",
    "These abstract methods must be implemented by any concrete subclass of the abstract class. \n",
    "Since the abstract class itself does not provide an implementation for the abstract methods, it cannot be instantiated directly."
   ]
  }
 ],
 "metadata": {
  "kernelspec": {
   "display_name": "Python 3 (ipykernel)",
   "language": "python",
   "name": "python3"
  },
  "language_info": {
   "codemirror_mode": {
    "name": "ipython",
    "version": 3
   },
   "file_extension": ".py",
   "mimetype": "text/x-python",
   "name": "python",
   "nbconvert_exporter": "python",
   "pygments_lexer": "ipython3",
   "version": "3.10.6"
  }
 },
 "nbformat": 4,
 "nbformat_minor": 5
}
