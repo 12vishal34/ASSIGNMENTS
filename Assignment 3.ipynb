{
 "cells": [
  {
   "cell_type": "code",
   "execution_count": null,
   "id": "15238ac0-78a0-474a-a20f-6f5b8adb04f4",
   "metadata": {},
   "outputs": [],
   "source": [
    "#1.Explain with an example each when to use a for loop and a while loop.\n",
    "\n",
    "Answer: A for loop is used when you have a definite number of iterations and you know beforehand how many times you want to loop through the code. \n",
    "\n",
    "For example, if you want to loop through the numbers from 1 to 10, you would use a for loop:\n",
    "for i in range(1, 11):\n",
    "    print(i)\n",
    "in this example, the for loop will run 10 times, starting at 1 and ending at 10.\n",
    "\n",
    "A while loop, on the other hand, is used when you do not know beforehand how many times you want to loop through the code. The loop will continue to run as long as a certain condition is met. \n",
    "\n",
    "For example, if you want to loop until the user inputs a number greater than 10, you would use a while loop:\n",
    "num = 0\n",
    "while num <= 10:\n",
    "    num = int(input(\"Enter a number: \"))\n",
    "In this example, the while loop will continue to run until the user inputs a number greater than 10. Once the condition is met, the loop will exit."
   ]
  },
  {
   "cell_type": "code",
   "execution_count": null,
   "id": "bf27d1c4-a700-41d7-a0f5-e1afe2e8ebe2",
   "metadata": {},
   "outputs": [],
   "source": [
    "#2. Write a python program to print the sum and product of the first 10 natural numbers using for and while loop.\n",
    "\n",
    "sum and product of the first 10 natural numbers using a for loop:\n",
    "sum = 0\n",
    "product = 1\n",
    "\n",
    "for i in range(1, 11):\n",
    "    sum =sum+i\n",
    "    product =product* i\n",
    "\n",
    "print(\"Sum:\", sum)\n",
    "print(\"Product:\", product)\n",
    "\n",
    "sum and product of the first 10 natural numbers using a while loop:\n",
    "sum = 0\n",
    "product = 1\n",
    "i = 1\n",
    "\n",
    "while i <= 10:\n",
    "    sum =sum+ i\n",
    "    product =product*i\n",
    "    i =i+ 1\n",
    "\n",
    "print(\"Sum:\", sum)\n",
    "print(\"Product:\", product)\n",
    "\n",
    "Both of these programs will output the same result:\n",
    "Sum: 55\n",
    "Product: 3628800\n"
   ]
  },
  {
   "cell_type": "code",
   "execution_count": null,
   "id": "675e6d0f-31f3-48b3-bf01-8913d221ac3a",
   "metadata": {},
   "outputs": [],
   "source": [
    "#Create a python program to compute the electricity bill for a household.\n",
    "\n",
    "3. The per-unit charges in rupees are as follows: For the first 100 units, the user will be charged Rs. 4.5 per \n",
    "unit, for the next 100 units, the user will be charged Rs. 6 per unit, and for the next 100 units, the user will \n",
    "be charged Rs. 10 per unit, After 300 units and above the user will be charged Rs. 20 per unit.\n",
    "You are required to take the units of electricity consumed in a month from the user as input.\n",
    "Your program must pass this test case: when the unit of electricity consumed by the user in a month is \n",
    "310, the total electricity bill should be 2250.\n"
   ]
  },
  {
   "cell_type": "code",
   "execution_count": 9,
   "id": "d64bbf94-e4c1-49d5-847c-8135728cac75",
   "metadata": {},
   "outputs": [
    {
     "name": "stdin",
     "output_type": "stream",
     "text": [
      "Enter the number of units consumed:  310\n"
     ]
    },
    {
     "name": "stdout",
     "output_type": "stream",
     "text": [
      "The total electricity bill is: Rs. 2250.0\n"
     ]
    }
   ],
   "source": [
    "units = int(input(\"Enter the number of units consumed: \"))\n",
    "def calculate_bill(units):\n",
    "    if units <= 100:\n",
    "        bill = units * 4.5\n",
    "    elif units <= 200:\n",
    "        bill = 100 * 4.5 + (units - 100) * 6\n",
    "    elif units <= 300:\n",
    "        bill = 100 * 4.5 + 100 * 6 + (units - 200) * 10\n",
    "    else:\n",
    "        bill = 100 * 4.5 + 100 * 6 + 100 * 10 + (units - 300) * 20\n",
    "    return bill\n",
    "bill= calculate_bill(units)\n",
    "print(\"The total electricity bill is: Rs.\", bill)\n"
   ]
  },
  {
   "cell_type": "code",
   "execution_count": 17,
   "id": "8de36852-0edf-4ea2-a547-0af67f190b36",
   "metadata": {},
   "outputs": [
    {
     "name": "stdout",
     "output_type": "stream",
     "text": [
      "Numbers whose cube is divisible by 4 or 5 (using for loop): [2, 4, 5, 6, 8, 10, 12, 14, 15, 16, 18, 20, 22, 24, 25, 26, 28, 30, 32, 34, 35, 36, 38, 40, 42, 44, 45, 46, 48, 50, 52, 54, 55, 56, 58, 60, 62, 64, 65, 66, 68, 70, 72, 74, 75, 76, 78, 80, 82, 84, 85, 86, 88, 90, 92, 94, 95, 96, 98, 100]\n"
     ]
    }
   ],
   "source": [
    "#4.Create a list of numbers from 1 to 100. Use for loop and while loop to calculate the cube of each number and if the cube of that number is divisible by 4 or 5 then append that number in a list and print that list.\n",
    "l = []\n",
    "for i in range(1, 101):\n",
    "    cube = i ** 3\n",
    "    if cube % 4 == 0 or cube % 5 == 0:\n",
    "        l.append(i)\n",
    "print(\"Numbers whose cube is divisible by 4 or 5 (using for loop):\", l)\n"
   ]
  },
  {
   "cell_type": "code",
   "execution_count": 18,
   "id": "663632c2-4954-40c7-b1bc-f62da9f13963",
   "metadata": {},
   "outputs": [
    {
     "name": "stdout",
     "output_type": "stream",
     "text": [
      "Numbers whose cube is divisible by 4 or 5 (using while loop): [2, 4, 5, 6, 8, 10, 12, 14, 15, 16, 18, 20, 22, 24, 25, 26, 28, 30, 32, 34, 35, 36, 38, 40, 42, 44, 45, 46, 48, 50, 52, 54, 55, 56, 58, 60, 62, 64, 65, 66, 68, 70, 72, 74, 75, 76, 78, 80, 82, 84, 85, 86, 88, 90, 92, 94, 95, 96, 98, 100]\n"
     ]
    }
   ],
   "source": [
    "l1= []\n",
    "i = 1\n",
    "while i <= 100:\n",
    "    cube = i ** 3\n",
    "    if cube % 4 == 0 or cube % 5 == 0:\n",
    "        l1.append(i)\n",
    "    i =i+1 \n",
    "print(\"Numbers whose cube is divisible by 4 or 5 (using while loop):\", l)\n",
    "\n",
    "    \n",
    "    "
   ]
  },
  {
   "cell_type": "code",
   "execution_count": 37,
   "id": "47029401-7d44-4dbc-8134-316bf05f24e1",
   "metadata": {},
   "outputs": [
    {
     "name": "stdout",
     "output_type": "stream",
     "text": [
      "The number of vowels in the string is: 12\n"
     ]
    }
   ],
   "source": [
    "#5. program to filter count vowels in string given below.\n",
    "string = \"I want to become a data scientist\"\n",
    "vowels = \"aeiouAEIOU\"\n",
    "count = 0\n",
    "\n",
    "for vowel in vowels:\n",
    "    count=count+ string.count(vowel)\n",
    "\n",
    "print(\"The number of vowels in the string is:\", count)\n",
    "\n"
   ]
  },
  {
   "cell_type": "code",
   "execution_count": null,
   "id": "9e50676a-e231-4a26-8d01-aadb6c47a859",
   "metadata": {},
   "outputs": [],
   "source": []
  },
  {
   "cell_type": "code",
   "execution_count": null,
   "id": "f580ce4f-d9eb-457f-85e5-a7df9a6cc212",
   "metadata": {},
   "outputs": [],
   "source": []
  },
  {
   "cell_type": "code",
   "execution_count": null,
   "id": "050e904c-4130-4ad9-a333-89aa9801f3e8",
   "metadata": {},
   "outputs": [],
   "source": []
  },
  {
   "cell_type": "code",
   "execution_count": null,
   "id": "dbc0cc02-f298-4edf-90f9-3edf4f612361",
   "metadata": {},
   "outputs": [],
   "source": []
  }
 ],
 "metadata": {
  "kernelspec": {
   "display_name": "Python 3 (ipykernel)",
   "language": "python",
   "name": "python3"
  },
  "language_info": {
   "codemirror_mode": {
    "name": "ipython",
    "version": 3
   },
   "file_extension": ".py",
   "mimetype": "text/x-python",
   "name": "python",
   "nbconvert_exporter": "python",
   "pygments_lexer": "ipython3",
   "version": "3.10.6"
  }
 },
 "nbformat": 4,
 "nbformat_minor": 5
}
