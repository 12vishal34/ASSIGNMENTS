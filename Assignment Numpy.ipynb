{
 "cells": [
  {
   "cell_type": "code",
   "execution_count": null,
   "id": "05c36a2e-62b7-41a7-b068-13f9f612ba81",
   "metadata": {},
   "outputs": [],
   "source": [
    "Consider the below code to answer further questions:\n",
    "import numpy as np\n",
    "list_ = [ ‘1’ , ’2’ , ‘3’ , ‘4’ , ‘5’ ]\n",
    "array_list = np.array(object = list_)"
   ]
  },
  {
   "cell_type": "code",
   "execution_count": null,
   "id": "4d00187a-1bc2-4725-97ea-71c5e9e175a3",
   "metadata": {},
   "outputs": [],
   "source": [
    "Q1. Is there any difference in the data type of variables list_ and array_list? If there is then write a code\n",
    "to print the data types of both the variables."
   ]
  },
  {
   "cell_type": "code",
   "execution_count": 7,
   "id": "e0af1a4f-ac8c-4db8-ad52-d7e4842331e7",
   "metadata": {},
   "outputs": [],
   "source": [
    "Yes, there is a difference in the data type of variables list_ and array_list.\n",
    "\n",
    "The variable list_ is a Python list which can hold elements of any data type, including integers, floats, strings, and so on.\n",
    "\n",
    "On the other hand, the variable array_list is a numpy array which can only hold elements of the same data type. In this case, since all the elements of list_ are strings, the elements of array_list will also be converted to strings."
   ]
  },
  {
   "cell_type": "code",
   "execution_count": 8,
   "id": "c425af4b-c39b-4e0f-ba42-11f2116d3def",
   "metadata": {},
   "outputs": [
    {
     "name": "stdout",
     "output_type": "stream",
     "text": [
      "Data type of list_: <class 'list'>\n",
      "Data type of array_list: <class 'numpy.ndarray'>\n"
     ]
    }
   ],
   "source": [
    "import numpy as np\n",
    "list_ = [ '1' , '2' , '3' , '4' , '5' ]\n",
    "array_list = np.array(object = list_)\n",
    "\n",
    "print(\"Data type of list_:\", type(list_))\n",
    "print(\"Data type of array_list:\", type(array_list))\n"
   ]
  },
  {
   "cell_type": "code",
   "execution_count": null,
   "id": "7bfb3bbc-06c4-4479-aef1-b3365dd946ff",
   "metadata": {},
   "outputs": [],
   "source": [
    "Q2. Write a code to print the data type of each and every element of both the variables list_ and\n",
    "arra_list."
   ]
  },
  {
   "cell_type": "code",
   "execution_count": 11,
   "id": "8db824fb-5a86-4887-8d12-73fa6195bf9e",
   "metadata": {},
   "outputs": [
    {
     "name": "stdout",
     "output_type": "stream",
     "text": [
      "Data type of  1 in list_: <class 'str'>\n",
      "Data type of  2 in list_: <class 'str'>\n",
      "Data type of  3 in list_: <class 'str'>\n",
      "Data type of  4 in list_: <class 'str'>\n",
      "Data type of  5 in list_: <class 'str'>\n",
      "Data type of  1 in array_list: <class 'numpy.str_'>\n",
      "Data type of  2 in array_list: <class 'numpy.str_'>\n",
      "Data type of  3 in array_list: <class 'numpy.str_'>\n",
      "Data type of  4 in array_list: <class 'numpy.str_'>\n",
      "Data type of  5 in array_list: <class 'numpy.str_'>\n"
     ]
    }
   ],
   "source": [
    "import numpy as np\n",
    "list_ = [ '1' , '2' , '3' , '4' , '5' ]\n",
    "array_list = np.array(object = list_)\n",
    "for i in list_:\n",
    "    print(\"Data type of \", i, \"in list_:\", type(i))\n",
    "for j in array_list:\n",
    "    print(\"Data type of \", j, \"in array_list:\", type(j))\n"
   ]
  },
  {
   "cell_type": "code",
   "execution_count": null,
   "id": "aa3d8142-ea0b-478d-a5a3-4927f5b94ff3",
   "metadata": {},
   "outputs": [],
   "source": [
    "Q3. Considering the following changes in the variable, array_list:\n",
    "array_list = np.array(object = list_, dtype = int)\n",
    "Will there be any difference in the data type of the elements present in both the variables, list_ and\n",
    "arra_list? If so then print the data types of each and every element present in both the variables, list_\n",
    "and array_list."
   ]
  },
  {
   "cell_type": "code",
   "execution_count": null,
   "id": "b1d46ecc-d083-4373-bfb9-cc30345dd9ed",
   "metadata": {},
   "outputs": [],
   "source": [
    "Yes, there will be a difference in the data type of the elements present in both the variables list_ and array_list if you change the dtype parameter to int while creating array_list.\n",
    "\n",
    "The int data type will convert each element in list_ from a string to an integer, and the resulting array_list will contain elements of the int data type.\n"
   ]
  },
  {
   "cell_type": "code",
   "execution_count": 12,
   "id": "ecd4e9ba-0a4b-4451-a63f-ef61c0ecd628",
   "metadata": {},
   "outputs": [
    {
     "name": "stdout",
     "output_type": "stream",
     "text": [
      "Data type of  1 in list_: <class 'str'>\n",
      "Data type of  2 in list_: <class 'str'>\n",
      "Data type of  3 in list_: <class 'str'>\n",
      "Data type of  4 in list_: <class 'str'>\n",
      "Data type of  5 in list_: <class 'str'>\n",
      "Data type of  1 in array_list: <class 'numpy.int64'>\n",
      "Data type of  2 in array_list: <class 'numpy.int64'>\n",
      "Data type of  3 in array_list: <class 'numpy.int64'>\n",
      "Data type of  4 in array_list: <class 'numpy.int64'>\n",
      "Data type of  5 in array_list: <class 'numpy.int64'>\n"
     ]
    }
   ],
   "source": [
    "import numpy as np\n",
    "list_ = ['1', '2', '3', '4', '5']\n",
    "array_list = np.array(object=list_, dtype=int)\n",
    "for i in list_:\n",
    "    print(\"Data type of \", i, \"in list_:\", type(i))\n",
    "for j in array_list:\n",
    "    print(\"Data type of \", j, \"in array_list:\", type(j))\n"
   ]
  },
  {
   "cell_type": "code",
   "execution_count": null,
   "id": "2dc29fa8-af2e-4612-8165-1942edc3afb5",
   "metadata": {},
   "outputs": [],
   "source": [
    "Consider the below code to answer further questions:\n",
    "import numpy as np\n",
    "num_list = [ [ 1 , 2 , 3 ] , [ 4 , 5 , 6 ] ]\n",
    "num_array = np.array(object = num_list)\n",
    "Q4. Write a code to find the following characteristics of variable, num_array:\n",
    "(i) shape\n",
    "(ii) size"
   ]
  },
  {
   "cell_type": "code",
   "execution_count": 15,
   "id": "f8499561-01c6-4b37-af78-34d623265e42",
   "metadata": {},
   "outputs": [
    {
     "name": "stdout",
     "output_type": "stream",
     "text": [
      "shape of num_array: (2, 3)\n",
      "size of num_array: 6\n"
     ]
    }
   ],
   "source": [
    "import numpy as np\n",
    "num_list = [ [ 1 , 2 , 3 ] , [ 4 , 5 , 6 ] ]\n",
    "num_array = np.array(object = num_list)\n",
    "print(\"shape of num_array:\",num_array.shape)\n",
    "print(\"size of num_array:\",num_array.size)"
   ]
  },
  {
   "cell_type": "code",
   "execution_count": null,
   "id": "88a4c782-ef2e-401c-9f9b-92c1985eabda",
   "metadata": {},
   "outputs": [],
   "source": [
    "Q5. Write a code to create numpy array of 3*3 matrix containing zeros only, using a numpy array\n",
    "creation function.\n",
    "[Hint: The size of the array will be 9 and the shape will be (3,3).]"
   ]
  },
  {
   "cell_type": "code",
   "execution_count": 17,
   "id": "b3db7d61-fc40-4245-a320-26f3ea14c57a",
   "metadata": {},
   "outputs": [
    {
     "name": "stdout",
     "output_type": "stream",
     "text": [
      "[[0. 0. 0.]\n",
      " [0. 0. 0.]\n",
      " [0. 0. 0.]]\n"
     ]
    }
   ],
   "source": [
    "import numpy as np\n",
    "zeros_matrix = np.zeros(shape=(3, 3))\n",
    "print(zeros_matrix)\n"
   ]
  },
  {
   "cell_type": "code",
   "execution_count": null,
   "id": "b958e41a-387b-4616-8dfc-8f6b2811c40d",
   "metadata": {},
   "outputs": [],
   "source": [
    "Q6. Create an identity matrix of shape (5,5) using numpy functions?\n",
    "[Hint: An identity matrix is a matrix containing 1 diagonally and other elements will be 0.]"
   ]
  },
  {
   "cell_type": "code",
   "execution_count": 18,
   "id": "88bd8a06-18e5-42ad-bf2c-31ff76e32dca",
   "metadata": {},
   "outputs": [
    {
     "name": "stdout",
     "output_type": "stream",
     "text": [
      "[[1. 0. 0. 0. 0.]\n",
      " [0. 1. 0. 0. 0.]\n",
      " [0. 0. 1. 0. 0.]\n",
      " [0. 0. 0. 1. 0.]\n",
      " [0. 0. 0. 0. 1.]]\n"
     ]
    }
   ],
   "source": [
    "import numpy as np\n",
    "identity_matrix = np.eye(5)\n",
    "print(identity_matrix)\n"
   ]
  },
  {
   "cell_type": "code",
   "execution_count": null,
   "id": "28b86564-0cee-4321-9883-22c5d1c4a7c1",
   "metadata": {},
   "outputs": [],
   "source": []
  }
 ],
 "metadata": {
  "kernelspec": {
   "display_name": "Python 3 (ipykernel)",
   "language": "python",
   "name": "python3"
  },
  "language_info": {
   "codemirror_mode": {
    "name": "ipython",
    "version": 3
   },
   "file_extension": ".py",
   "mimetype": "text/x-python",
   "name": "python",
   "nbconvert_exporter": "python",
   "pygments_lexer": "ipython3",
   "version": "3.10.6"
  }
 },
 "nbformat": 4,
 "nbformat_minor": 5
}
