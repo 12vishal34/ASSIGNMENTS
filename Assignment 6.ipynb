{
 "cells": [
  {
   "cell_type": "code",
   "execution_count": null,
   "id": "8fd430dd-a32e-4be8-a4fa-edfebc6557b4",
   "metadata": {},
   "outputs": [],
   "source": [
    "Q1. Explain Class and Object with respect to Object-Oriented Programming. Give a suitable example."
   ]
  },
  {
   "cell_type": "code",
   "execution_count": 9,
   "id": "5d8f552a-3b42-4952-a665-a5467fbdc0a4",
   "metadata": {},
   "outputs": [
    {
     "name": "stdout",
     "output_type": "stream",
     "text": [
      "Hello, my name is Nikhil\n"
     ]
    }
   ],
   "source": [
    "class is a user-defined blueprint for creating an object. Python classes possess attribute information on how to create an object as well as how to interact with those objects.\n",
    "A Python object is a collection of data (aka variables) and methods (aka functions) that act on the data. An object is also referred to as an instance of a class. \n",
    "\n",
    "class Person:\n",
    "    def __init__(self, name):\n",
    "        self.name = name\n",
    "    def say_hi(self):\n",
    "        print('Hello, my name is', self.name)\n",
    "p = Person('Nikhil')\n",
    "p.say_hi()"
   ]
  },
  {
   "cell_type": "code",
   "execution_count": null,
   "id": "7bd9a3cf-a975-47a1-b6ff-4cc4331ea706",
   "metadata": {},
   "outputs": [],
   "source": [
    "Q2. Name the four pillars of OOPs."
   ]
  },
  {
   "cell_type": "code",
   "execution_count": null,
   "id": "1fb58a1f-37d9-4ef7-a18f-016e634019fc",
   "metadata": {},
   "outputs": [],
   "source": [
    "Answer: Four Pillars of OOPs are :-\n",
    "       1. Encapsulation\n",
    "       2. Inherutance\n",
    "       3. Polymorphism\n",
    "       4. Abstraction"
   ]
  },
  {
   "cell_type": "code",
   "execution_count": null,
   "id": "be5f1e1e-4612-4717-b19a-07398b873046",
   "metadata": {},
   "outputs": [],
   "source": [
    "Q3. Explain why the __init__() function is used. Give a suitable example."
   ]
  },
  {
   "cell_type": "code",
   "execution_count": 6,
   "id": "8290b17c-93a8-46aa-ad5c-f11ffda7b3fe",
   "metadata": {},
   "outputs": [],
   "source": [
    "_init__ is one of the reserved methods in Python.\n",
    "In object oriented programming, it is known as a constructor. \n",
    "The __init__ method can be called when an object is created from the class, and access is required to initialize the attributes of the class.\n",
    "\n",
    "class pwskills:\n",
    "    \n",
    "    def __init__(self,phone_number,email_id,student_id):\n",
    "        self.phone_number=phone_number\n",
    "        self.email_id=email_id\n",
    "        self.student_id=student_id\n",
    "    def return_student_details(self):\n",
    "        return self.student_id,self.phone_number,self.email_id"
   ]
  },
  {
   "cell_type": "code",
   "execution_count": 7,
   "id": "c7f89d14-397f-4eda-a2e7-d9e98789fd5f",
   "metadata": {},
   "outputs": [],
   "source": [
    "aman= pwskills(980098789,\"aman@gmail.com\",102)\n"
   ]
  },
  {
   "cell_type": "code",
   "execution_count": 8,
   "id": "f07dd873-ed94-4f74-82f0-63c14d384bf0",
   "metadata": {},
   "outputs": [
    {
     "data": {
      "text/plain": [
       "(102, 980098789, 'aman@gmail.com')"
      ]
     },
     "execution_count": 8,
     "metadata": {},
     "output_type": "execute_result"
    }
   ],
   "source": [
    "aman.return_student_details()"
   ]
  },
  {
   "cell_type": "code",
   "execution_count": null,
   "id": "ed97c0d7-ea63-4b01-a79b-5ed6cab88030",
   "metadata": {},
   "outputs": [],
   "source": [
    "Q4. Why self is used in OOPs?"
   ]
  },
  {
   "cell_type": "code",
   "execution_count": null,
   "id": "985ce724-02f7-4ec6-80d7-31c3d43d4bb1",
   "metadata": {},
   "outputs": [],
   "source": [
    "In Python, self is the first parameter of instance methods.\n",
    "It is used to refer to the object that is calling the method.\n",
    "When an object calls a method, self is automatically passed as the first argument to the method.\n",
    "This allows the method to access the attributes and methods of the object."
   ]
  },
  {
   "cell_type": "code",
   "execution_count": null,
   "id": "acb28dbf-5307-43ae-8c99-e08b8a59f6e0",
   "metadata": {},
   "outputs": [],
   "source": [
    "Q5. What is inheritance? Give an example for each type of inheritance."
   ]
  },
  {
   "cell_type": "code",
   "execution_count": 1,
   "id": "c4ae5c34-b9a0-4ff6-a906-6716a962c40a",
   "metadata": {},
   "outputs": [
    {
     "data": {
      "text/plain": [
       "'this is my first class'"
      ]
     },
     "execution_count": 1,
     "metadata": {},
     "output_type": "execute_result"
    }
   ],
   "source": [
    "Answer: Inheritance is a fundamental concept in object-oriented programming, where a new class is created by inheriting the properties and methods of an existing class. \n",
    "The existing class is called the parent class or superclass, and the new class is called the child class or subclass.\n",
    "Inheritance allows for code reuse and the creation of a hierarchy of classes.\n",
    "\n",
    "Types of Inheritance:\n",
    "    1.Single Inheitance: Single inheritance is where a child class inherits from a single parent class.\n",
    "class test:\n",
    "    \n",
    "    def test_meth(self):\n",
    "        return \"this is my first class\"\n",
    "class child_test(test):\n",
    "    pass\n",
    "child_test_obj = child_test()\n",
    "child_test_obj.test_meth()"
   ]
  },
  {
   "cell_type": "code",
   "execution_count": 4,
   "id": "f581bf9d-bfdc-4254-9bf3-374345acebed",
   "metadata": {},
   "outputs": [
    {
     "data": {
      "text/plain": [
       "'this is vishal from class1'"
      ]
     },
     "execution_count": 4,
     "metadata": {},
     "output_type": "execute_result"
    }
   ],
   "source": [
    "2.Multilevel Inhertance:\n",
    "class class1:\n",
    "    \n",
    "    def tets_class1(self):\n",
    "        return \"this is vishal from class1\"\n",
    "class class2(class1):\n",
    "    def test_class2(self):\n",
    "        return \"this is a vishal from class2\"\n",
    "class class3(class2):\n",
    "    pass\n",
    "obj_class3=class3()\n",
    "obj_class3.tets_class1()\n"
   ]
  },
  {
   "cell_type": "code",
   "execution_count": 5,
   "id": "6508f949-6a7a-4baf-8654-3d8d07ef2fe5",
   "metadata": {},
   "outputs": [
    {
     "data": {
      "text/plain": [
       "'this is a vishal from class2'"
      ]
     },
     "execution_count": 5,
     "metadata": {},
     "output_type": "execute_result"
    }
   ],
   "source": [
    "obj_class3.test_class2()"
   ]
  },
  {
   "cell_type": "code",
   "execution_count": 1,
   "id": "8691b821-f1d0-4846-bcfe-69475ae5d967",
   "metadata": {},
   "outputs": [
    {
     "data": {
      "text/plain": [
       "'this is a class1'"
      ]
     },
     "execution_count": 1,
     "metadata": {},
     "output_type": "execute_result"
    }
   ],
   "source": [
    "3. Multiple Inheritance\n",
    "class class1:\n",
    "    def test_class1(self):\n",
    "        return \"this is a class1\"\n",
    "class class2:\n",
    "    \n",
    "    def test_class2(self):\n",
    "        return \"this is class2\"\n",
    "class class3(class1,class2):\n",
    "    pass\n",
    "obj_class3=class3()\n",
    "obj_class3.test_class1()\n"
   ]
  },
  {
   "cell_type": "code",
   "execution_count": 2,
   "id": "574ccb90-5e7e-46e4-851e-923aa32681e1",
   "metadata": {},
   "outputs": [
    {
     "data": {
      "text/plain": [
       "'this is class2'"
      ]
     },
     "execution_count": 2,
     "metadata": {},
     "output_type": "execute_result"
    }
   ],
   "source": [
    "obj_class3.test_class2()"
   ]
  },
  {
   "cell_type": "code",
   "execution_count": null,
   "id": "f310bfef-18f8-4fc9-bdbc-a94de8f68c9b",
   "metadata": {},
   "outputs": [],
   "source": []
  }
 ],
 "metadata": {
  "kernelspec": {
   "display_name": "Python 3 (ipykernel)",
   "language": "python",
   "name": "python3"
  },
  "language_info": {
   "codemirror_mode": {
    "name": "ipython",
    "version": 3
   },
   "file_extension": ".py",
   "mimetype": "text/x-python",
   "name": "python",
   "nbconvert_exporter": "python",
   "pygments_lexer": "ipython3",
   "version": "3.10.6"
  }
 },
 "nbformat": 4,
 "nbformat_minor": 5
}
