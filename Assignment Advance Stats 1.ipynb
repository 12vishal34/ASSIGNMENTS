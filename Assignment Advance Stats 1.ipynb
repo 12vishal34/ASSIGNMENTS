{
 "cells": [
  {
   "cell_type": "code",
   "execution_count": null,
   "id": "5aca79d3-1086-4130-a6ee-537904659385",
   "metadata": {},
   "outputs": [],
   "source": [
    "Q1. What is the Probability density function?"
   ]
  },
  {
   "cell_type": "code",
   "execution_count": null,
   "id": "aa39f2b2-46d3-4430-bb16-52813ab5f414",
   "metadata": {},
   "outputs": [],
   "source": [
    "Answer: The probability density function (PDF) is a function that describes the probability distribution of a continuous random variable. \n",
    "It is used to quantify the likelihood of different values of a continuous random variable occurring.\n",
    "\n",
    "\n",
    "\n"
   ]
  },
  {
   "cell_type": "code",
   "execution_count": null,
   "id": "4f2d6d09-34d4-4845-ab71-0400b1096526",
   "metadata": {},
   "outputs": [],
   "source": [
    "Q2. What are the types of Probability distribution?"
   ]
  },
  {
   "cell_type": "code",
   "execution_count": null,
   "id": "f167a53b-2d33-4fa4-b68a-be85eea25f34",
   "metadata": {},
   "outputs": [],
   "source": [
    "Answer: There are several types of probability distributions, including:\n",
    "    1.Discrete probability distributions, such as the Bernoulli distribution, binomial distribution, and Poisson distribution.\n",
    "    2.Continuous probability distributions, such as the normal distribution, exponential distribution, and uniform distribution.\n",
    "    3.Multivariate distributions, such as the multivariate normal distribution and the Wishart distribution.\n",
    "    4.Skewed distributions, such as the gamma distribution, beta distribution, and chi-squared distribution.\n",
    "    5.Heavy-tailed distributions, such as the Cauchy distribution, t-distribution, and Pareto distribution.\n",
    "    6.Bivariate distributions, such as the bivariate normal distribution and the copula distribution.\n"
   ]
  },
  {
   "cell_type": "code",
   "execution_count": null,
   "id": "e661637e-9dd2-45e1-a4e6-92b1c890bccd",
   "metadata": {},
   "outputs": [],
   "source": [
    "Q3. Write a Python function to calculate the probability density function of a normal distribution with\n",
    "given mean and standard deviation at a given point."
   ]
  },
  {
   "cell_type": "code",
   "execution_count": 2,
   "id": "ef39eced-40c8-448c-a381-3aaefa653474",
   "metadata": {},
   "outputs": [],
   "source": [
    "import numpy as np"
   ]
  },
  {
   "cell_type": "code",
   "execution_count": 5,
   "id": "5d4d8221-9d33-49cc-902c-e976fe464054",
   "metadata": {},
   "outputs": [],
   "source": [
    "def Normal_pdf(x,Mean,Std):\n",
    "    pdf=(1/(Std*np.sqrt(2*np.pi)))*np.exp(-0.5*((x-Mean)/Std)**2)\n",
    "    return pdf\n",
    "    "
   ]
  },
  {
   "cell_type": "code",
   "execution_count": 6,
   "id": "64587736-a4b4-467e-b807-01501addd96a",
   "metadata": {},
   "outputs": [
    {
     "name": "stdout",
     "output_type": "stream",
     "text": [
      "0.05399096651318806\n"
     ]
    }
   ],
   "source": [
    "pdf_value = Normal_pdf(x=2, Mean=0, Std=1)\n",
    "print(pdf_value)\n"
   ]
  },
  {
   "cell_type": "code",
   "execution_count": null,
   "id": "28fb9009-9612-4837-8b37-d88ba8854fc4",
   "metadata": {},
   "outputs": [],
   "source": [
    "Q4. What are the properties of Binomial distribution? Give two examples of events where binomial\n",
    "distribution can be applied."
   ]
  },
  {
   "cell_type": "code",
   "execution_count": null,
   "id": "fe024847-09c9-43b6-87be-aebdb8f99f12",
   "metadata": {},
   "outputs": [],
   "source": [
    "Answer: Properties of binomial distribution:\n",
    "    1.It models the probability of a binary event (success or failure) in a fixed number of independent trials.\n",
    "    2.The trials are identical and each trial has the same probability of success.\n",
    "    3.The trials are independent of each other.\n",
    "    4.The distribution is discrete.\n",
    "Two examples where binomial distribution can be applied are:\n",
    "    1.The number of heads obtained in a fixed number of coin tosses.\n",
    "    2.The number of defective products in a fixed number of items produced on a manufacturing line.\n",
    "\n",
    "\n",
    "\n",
    "\n",
    "\n"
   ]
  },
  {
   "cell_type": "code",
   "execution_count": null,
   "id": "6f1335b0-85d1-4209-b3ce-47f5de147269",
   "metadata": {},
   "outputs": [],
   "source": [
    "Q5. Generate a random sample of size 1000 from a binomial distribution with probability of success 0.4\n",
    "and plot a histogram of the results using matplotlib."
   ]
  },
  {
   "cell_type": "code",
   "execution_count": 2,
   "id": "80af9c2c-b9d4-4abf-ac24-7118e4017cc0",
   "metadata": {},
   "outputs": [],
   "source": [
    "import numpy as np"
   ]
  },
  {
   "cell_type": "code",
   "execution_count": 3,
   "id": "e279c7be-ac5e-41b6-8d50-f75a6c94e55f",
   "metadata": {},
   "outputs": [],
   "source": [
    "import matplotlib.pyplot as plt"
   ]
  },
  {
   "cell_type": "code",
   "execution_count": 4,
   "id": "c8e81453-48a1-4c17-a922-b62e4fc1d9d7",
   "metadata": {},
   "outputs": [],
   "source": [
    "n=1000\n",
    "p=0.4\n",
    "s=np.random.binomial(n,p,size=1000)"
   ]
  },
  {
   "cell_type": "code",
   "execution_count": 7,
   "id": "c41a9465-6158-4e0d-a8ed-24a6d10cfe68",
   "metadata": {},
   "outputs": [
    {
     "data": {
      "image/png": "[encoded data removed]",
      "text/plain": [
       "<Figure size 640x480 with 1 Axes>"
      ]
     },
     "metadata": {},
     "output_type": "display_data"
    }
   ],
   "source": [
    "plt.hist(s, bins=20)\n",
    "plt.xlabel('Number of success')\n",
    "plt.ylabel('Frequency')\n",
    "plt.title('Binomial distribution')\n",
    "plt.show()"
   ]
  },
  {
   "cell_type": "code",
   "execution_count": null,
   "id": "4f9ad4da-6e85-4dd0-93fd-2c75d7370b19",
   "metadata": {},
   "outputs": [],
   "source": [
    "Q6. Write a Python function to calculate the cumulative distribution function of a Poisson distribution\n",
    "with given mean at a given point."
   ]
  },
  {
   "cell_type": "code",
   "execution_count": 7,
   "id": "6824af32-74b4-460f-9baf-f1a819fcf004",
   "metadata": {},
   "outputs": [],
   "source": [
    "import numpy as np"
   ]
  },
  {
   "cell_type": "code",
   "execution_count": 12,
   "id": "66178922-ab28-4be2-87f8-320649a6383e",
   "metadata": {},
   "outputs": [],
   "source": [
    "import math as math"
   ]
  },
  {
   "cell_type": "code",
   "execution_count": 14,
   "id": "c2cf9625-46ac-4565-9923-fce68ae6487e",
   "metadata": {},
   "outputs": [
    {
     "name": "stdout",
     "output_type": "stream",
     "text": [
      "0.01831563888873418\n"
     ]
    }
   ],
   "source": [
    "x=0\n",
    "lamb=4\n",
    "\n",
    "def Poisson_cdf(x,lamb):\n",
    "    cdf=0\n",
    "    for i in range(x+1):\n",
    "        cdf+=(((np.exp(-lamb))*lamb**i)/math.factorial(i))\n",
    "        return cdf\n",
    "cdf = Poisson_cdf(x, lamb)\n",
    "\n",
    "print(cdf)  \n"
   ]
  },
  {
   "cell_type": "code",
   "execution_count": null,
   "id": "ca0d8d7d-5c85-4b2a-abc4-7d95b07a0b01",
   "metadata": {},
   "outputs": [],
   "source": [
    "Q7. How Binomial distribution different from Poisson distribution?"
   ]
  },
  {
   "cell_type": "code",
   "execution_count": null,
   "id": "5cc33456-9f2f-4c7c-8f14-8b1674fb7fc1",
   "metadata": {},
   "outputs": [],
   "source": [
    "Answer:Binomial distribution and Poisson distribution are both probability distributions and there are some differences between them:\n",
    "    1. Binomial distribution is used when there are a fixed number of trials and each trial has only two possible outcomes, while Poisson distribution is used when the number of occurrences of an event is rare but its average rate is known.\n",
    "    \n",
    "    2.Binomial distribution has two parameters, the number of trials and the probability of success in each trial, while Poisson distribution has only one parameter, the average rate of occurrences\n",
    "    \n",
    "    3.The shape of the binomial distribution is symmetric, while the shape of the Poisson distribution is skewed to the right.\n",
    "    \n",
    "    4.The variance of the binomial distribution increases with the number of trials, while the variance of the Poisson distribution is equal to its mean.\n",
    "\n",
    "\n"
   ]
  },
  {
   "cell_type": "code",
   "execution_count": null,
   "id": "b98ab493-6637-45c6-8311-9817a6e56b6d",
   "metadata": {},
   "outputs": [],
   "source": [
    "Q8. Generate a random sample of size 1000 from a Poisson distribution with mean 5 and calculate the sample mean and variance."
   ]
  },
  {
   "cell_type": "code",
   "execution_count": 10,
   "id": "0b0fc5f6-d258-4ff6-8409-e05f0cd06fce",
   "metadata": {},
   "outputs": [],
   "source": [
    "import numpy as np\n",
    "import matplotlib.pyplot as plt\n",
    "l=0.4\n",
    "p=np.random.poisson(l,size=1000)"
   ]
  },
  {
   "cell_type": "code",
   "execution_count": 11,
   "id": "fce4515e-4fc2-4798-908b-921188d394a8",
   "metadata": {},
   "outputs": [
    {
     "name": "stdout",
     "output_type": "stream",
     "text": [
      "Sample mean: 0.369\n",
      "Sample variance: 0.3608390000000001\n"
     ]
    }
   ],
   "source": [
    "M = np.mean(p)\n",
    "V = np.var(p)\n",
    "\n",
    "print(\"Sample mean:\", M)\n",
    "print(\"Sample variance:\", V)\n"
   ]
  },
  {
   "cell_type": "code",
   "execution_count": null,
   "id": "263abb5d-7d41-446b-ae0b-27c4f5fd46eb",
   "metadata": {},
   "outputs": [],
   "source": [
    "Q9. How mean and variance are related in Binomial distribution and Poisson distribution?"
   ]
  },
  {
   "cell_type": "code",
   "execution_count": null,
   "id": "9defe3f9-482f-4215-8f5f-37b8477f3dec",
   "metadata": {},
   "outputs": [],
   "source": [
    "Answer: In the binomial distribution, the mean is equal to the product of the number of trials and the probability of success in each trial, while the variance is equal to the product of the number of trials, the probability of success in each trial, and the probability of failure in each trial.\n",
    "\n",
    "In the Poisson distribution, the mean and the variance are equal and are both equal to the parameter lambda, which represents the average number of occurrences in a given time or space interval.\n",
    "\n",
    "\n",
    "\n"
   ]
  },
  {
   "cell_type": "code",
   "execution_count": null,
   "id": "5dfa5fa0-bea9-48e6-a442-0318270e2c25",
   "metadata": {},
   "outputs": [],
   "source": [
    "Q10. In normal distribution with respect to mean position, where does the least frequent data appear?"
   ]
  },
  {
   "cell_type": "code",
   "execution_count": null,
   "id": "f2001b9a-9d7f-405f-b0fc-b11da6649bc0",
   "metadata": {},
   "outputs": [],
   "source": [
    "Answer: The least frequent data in a normal distribution appear in the tails of the distribution, which are the extreme values farthest away from the mean. \n",
    "Only a very small proportion of the data falls beyond three standard deviations from the mean, in the tails of the distribution"
   ]
  },
  {
   "cell_type": "code",
   "execution_count": null,
   "id": "84e7dd46-b452-4517-b758-adbed2efbd85",
   "metadata": {},
   "outputs": [],
   "source": []
  },
  {
   "cell_type": "code",
   "execution_count": null,
   "id": "664e5681-ec67-4734-b4bf-793a23672817",
   "metadata": {},
   "outputs": [],
   "source": []
  },
  {
   "cell_type": "code",
   "execution_count": null,
   "id": "745d7753-a8e5-462d-b5b0-50dae7e52b2d",
   "metadata": {},
   "outputs": [],
   "source": []
  },
  {
   "cell_type": "code",
   "execution_count": null,
   "id": "02fb34bd-f8c3-436d-813a-95abd823f621",
   "metadata": {},
   "outputs": [],
   "source": []
  },
  {
   "cell_type": "code",
   "execution_count": null,
   "id": "6c3a3c80-1592-4830-9a5a-4427f323af95",
   "metadata": {},
   "outputs": [],
   "source": []
  },
  {
   "cell_type": "code",
   "execution_count": null,
   "id": "4bbf08d4-2328-4028-a07c-4fa1f04349c2",
   "metadata": {},
   "outputs": [],
   "source": []
  },
  {
   "cell_type": "code",
   "execution_count": null,
   "id": "1d683a7e-5812-4f32-be0e-5dd0768e7980",
   "metadata": {},
   "outputs": [],
   "source": []
  },
  {
   "cell_type": "code",
   "execution_count": null,
   "id": "aafabc47-4216-4f3a-ac0b-9b1f089265e9",
   "metadata": {},
   "outputs": [],
   "source": []
  },
  {
   "cell_type": "code",
   "execution_count": null,
   "id": "a4f5d52d-a182-44ed-afcd-fc61558f74bf",
   "metadata": {},
   "outputs": [],
   "source": []
  },
  {
   "cell_type": "code",
   "execution_count": null,
   "id": "aeddc6c2-7279-430c-b802-21d5f4deb137",
   "metadata": {},
   "outputs": [],
   "source": []
  },
  {
   "cell_type": "code",
   "execution_count": null,
   "id": "1d9b5d79-36bc-4a55-bb41-5f8e3f19682c",
   "metadata": {},
   "outputs": [],
   "source": []
  },
  {
   "cell_type": "code",
   "execution_count": null,
   "id": "c75a4397-53f5-4a8d-86b2-1ab2cf9670a5",
   "metadata": {},
   "outputs": [],
   "source": []
  },
  {
   "cell_type": "code",
   "execution_count": null,
   "id": "f0f12e3b-31cd-4ef1-98f7-008a462ea35b",
   "metadata": {},
   "outputs": [],
   "source": []
  },
  {
   "cell_type": "code",
   "execution_count": null,
   "id": "2b7f67b8-d9fb-43db-a074-acace21d934a",
   "metadata": {},
   "outputs": [],
   "source": []
  },
  {
   "cell_type": "code",
   "execution_count": null,
   "id": "0ddbf9b4-691f-430a-b893-42161fb12d4c",
   "metadata": {},
   "outputs": [],
   "source": []
  },
  {
   "cell_type": "code",
   "execution_count": null,
   "id": "fb59292d-b0aa-409e-9ea4-655f26e90825",
   "metadata": {},
   "outputs": [],
   "source": []
  }
 ],
 "metadata": {
  "kernelspec": {
   "display_name": "Python 3 (ipykernel)",
   "language": "python",
   "name": "python3"
  },
  "language_info": {
   "codemirror_mode": {
    "name": "ipython",
    "version": 3
   },
   "file_extension": ".py",
   "mimetype": "text/x-python",
   "name": "python",
   "nbconvert_exporter": "python",
   "pygments_lexer": "ipython3",
   "version": "3.10.6"
  }
 },
 "nbformat": 4,
 "nbformat_minor": 5
}
