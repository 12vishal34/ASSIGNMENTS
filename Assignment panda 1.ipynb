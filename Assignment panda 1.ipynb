{
 "cells": [
  {
   "cell_type": "code",
   "execution_count": null,
   "id": "68ad5109-933b-4a6c-a39d-14e38c770125",
   "metadata": {},
   "outputs": [],
   "source": [
    "Q1. Create a Pandas Series that contains the following data: 4, 8, 15, 16, 23, and 42. Then, print the series.\n",
    "\n"
   ]
  },
  {
   "cell_type": "code",
   "execution_count": 2,
   "id": "d94a5f9a-7cc6-40a7-8ae9-aafe2a1987d6",
   "metadata": {},
   "outputs": [],
   "source": [
    "import pandas as pd"
   ]
  },
  {
   "cell_type": "code",
   "execution_count": 3,
   "id": "92db0aa4-2978-48db-b8b5-975d20ee6de8",
   "metadata": {},
   "outputs": [
    {
     "name": "stdout",
     "output_type": "stream",
     "text": [
      "Requirement already satisfied: pandas in /opt/conda/lib/python3.10/site-packages (1.5.1)\n",
      "Requirement already satisfied: python-dateutil>=2.8.1 in /opt/conda/lib/python3.10/site-packages (from pandas) (2.8.2)\n",
      "Requirement already satisfied: pytz>=2020.1 in /opt/conda/lib/python3.10/site-packages (from pandas) (2022.5)\n",
      "Requirement already satisfied: numpy>=1.21.0 in /opt/conda/lib/python3.10/site-packages (from pandas) (1.23.4)\n",
      "Requirement already satisfied: six>=1.5 in /opt/conda/lib/python3.10/site-packages (from python-dateutil>=2.8.1->pandas) (1.16.0)\n",
      "Note: you may need to restart the kernel to use updated packages.\n"
     ]
    }
   ],
   "source": [
    "pip install pandas"
   ]
  },
  {
   "cell_type": "code",
   "execution_count": 9,
   "id": "112e488c-c540-49fd-9089-1004ee023b18",
   "metadata": {},
   "outputs": [],
   "source": [
    "s=pd.Series(['4','8','15','16','23','42'])"
   ]
  },
  {
   "cell_type": "code",
   "execution_count": 10,
   "id": "49c76615-4002-479e-a04e-47af26aaca0a",
   "metadata": {},
   "outputs": [
    {
     "data": {
      "text/plain": [
       "0     4\n",
       "1     8\n",
       "2    15\n",
       "3    16\n",
       "4    23\n",
       "5    42\n",
       "dtype: int64"
      ]
     },
     "execution_count": 10,
     "metadata": {},
     "output_type": "execute_result"
    }
   ],
   "source": [
    "pd.to_numeric(s)"
   ]
  },
  {
   "cell_type": "code",
   "execution_count": 11,
   "id": "f10fc709-d691-49c8-a71b-02e29248ea25",
   "metadata": {},
   "outputs": [
    {
     "data": {
      "text/plain": [
       "pandas.core.series.Series"
      ]
     },
     "execution_count": 11,
     "metadata": {},
     "output_type": "execute_result"
    }
   ],
   "source": [
    "type(s)"
   ]
  },
  {
   "cell_type": "code",
   "execution_count": null,
   "id": "ae1c179b-6794-49c9-9d49-76fcd0e4643d",
   "metadata": {},
   "outputs": [],
   "source": [
    "Q2. Create a variable of list type containing 10 elements in it, and apply pandas.Series function on the \n",
    "variable print it."
   ]
  },
  {
   "cell_type": "code",
   "execution_count": 12,
   "id": "b1d12133-c361-45d9-a0ad-103329a4eef5",
   "metadata": {},
   "outputs": [],
   "source": [
    "var=[1,23,4.5,\"vishal\",\"rai\", \"data\",345,22,\"panda\",11]"
   ]
  },
  {
   "cell_type": "code",
   "execution_count": 13,
   "id": "b5471274-fc26-4ac1-8a62-d36541a6cf56",
   "metadata": {},
   "outputs": [],
   "source": [
    "a=pd.Series(var)"
   ]
  },
  {
   "cell_type": "code",
   "execution_count": 15,
   "id": "8f86480f-5f93-428d-aa05-9560b89f2c3b",
   "metadata": {},
   "outputs": [
    {
     "data": {
      "text/plain": [
       "0         1\n",
       "1        23\n",
       "2       4.5\n",
       "3    vishal\n",
       "4       rai\n",
       "5      data\n",
       "6       345\n",
       "7        22\n",
       "8     panda\n",
       "9        11\n",
       "dtype: object"
      ]
     },
     "execution_count": 15,
     "metadata": {},
     "output_type": "execute_result"
    }
   ],
   "source": [
    "pd.to_numeric(a,errors='ignore')"
   ]
  },
  {
   "cell_type": "code",
   "execution_count": null,
   "id": "32f09d87-8add-4d72-a698-257ea5a66190",
   "metadata": {},
   "outputs": [],
   "source": [
    "Q3. Create a Pandas DataFrame that contains the following data:\n",
    "Then, print the DataFrame.\n",
    "Name      Age          Gender\n",
    "Alice     25           Female\n",
    "Bob       30           Male\n",
    "Claire    27           Female"
   ]
  },
  {
   "cell_type": "code",
   "execution_count": 16,
   "id": "469c22be-a759-40cb-9180-04e7ad467017",
   "metadata": {},
   "outputs": [],
   "source": [
    "d={\"Name\":[\"Alice\",\"Bob\",\"Claire\"],\"Age\":[25,30,27],\"Gender\":[\"Female\",\"Male\",\"Female\"]}"
   ]
  },
  {
   "cell_type": "code",
   "execution_count": 17,
   "id": "46661e98-e8b7-4cfd-b372-4b8166fca8be",
   "metadata": {},
   "outputs": [],
   "source": [
    "df= pd.DataFrame(data=d)"
   ]
  },
  {
   "cell_type": "code",
   "execution_count": 18,
   "id": "888edc22-593f-4c2c-a92f-7290a4dffe96",
   "metadata": {},
   "outputs": [
    {
     "data": {
      "text/html": [
       "<div>\n",
       "<style scoped>\n",
       "    .dataframe tbody tr th:only-of-type {\n",
       "        vertical-align: middle;\n",
       "    }\n",
       "\n",
       "    .dataframe tbody tr th {\n",
       "        vertical-align: top;\n",
       "    }\n",
       "\n",
       "    .dataframe thead th {\n",
       "        text-align: right;\n",
       "    }\n",
       "</style>\n",
       "<table border=\"1\" class=\"dataframe\">\n",
       "  <thead>\n",
       "    <tr style=\"text-align: right;\">\n",
       "      <th></th>\n",
       "      <th>Name</th>\n",
       "      <th>Age</th>\n",
       "      <th>Gender</th>\n",
       "    </tr>\n",
       "  </thead>\n",
       "  <tbody>\n",
       "    <tr>\n",
       "      <th>0</th>\n",
       "      <td>Alice</td>\n",
       "      <td>25</td>\n",
       "      <td>Female</td>\n",
       "    </tr>\n",
       "    <tr>\n",
       "      <th>1</th>\n",
       "      <td>Bob</td>\n",
       "      <td>30</td>\n",
       "      <td>Male</td>\n",
       "    </tr>\n",
       "    <tr>\n",
       "      <th>2</th>\n",
       "      <td>Claire</td>\n",
       "      <td>27</td>\n",
       "      <td>Female</td>\n",
       "    </tr>\n",
       "  </tbody>\n",
       "</table>\n",
       "</div>"
      ],
      "text/plain": [
       "     Name  Age  Gender\n",
       "0   Alice   25  Female\n",
       "1     Bob   30    Male\n",
       "2  Claire   27  Female"
      ]
     },
     "execution_count": 18,
     "metadata": {},
     "output_type": "execute_result"
    }
   ],
   "source": [
    "df"
   ]
  },
  {
   "cell_type": "code",
   "execution_count": null,
   "id": "d5812516-60cf-41e7-b923-9e82e307acba",
   "metadata": {},
   "outputs": [],
   "source": [
    "Q4. What is ‘DataFrame’ in pandas and how is it different from pandas.series? Explain with an example."
   ]
  },
  {
   "cell_type": "code",
   "execution_count": null,
   "id": "b301164a-549a-4786-98e9-45a989df4c90",
   "metadata": {},
   "outputs": [],
   "source": [
    "Answer: In pandas, a DataFrame is a two-dimensional labeled data structure that can hold data in a variety of formats (e.g., NumPy arrays, Python dictionaries, and other DataFrames), with rows and columns that can be labeled and indexed. \n",
    "It is a central data structure in pandas and is designed for handling tabular or structured data, similar to a spreadsheet or SQL table.\n",
    "\n",
    "On the other hand, a pandas Series is a one-dimensional labeled data structure that can hold data of any type (e.g., integers, strings, floats, and Python objects).\n",
    "It is like a column in a DataFrame, with a label or index for each element in the Series."
   ]
  },
  {
   "cell_type": "code",
   "execution_count": 9,
   "id": "3c981225-6e12-472f-9423-dc6b5ee3f9e7",
   "metadata": {},
   "outputs": [],
   "source": [
    "import pandas as pd\n",
    "\n",
    "data = {'make': ['Toyota', 'Honda', 'Ford', 'Tesla'],\n",
    "        'model': ['Camry', 'Civic', 'F-150', 'Model S'],\n",
    "        'year': [2018, 2019, 2020, 2021],\n",
    "        'price': [25000, 22000, 30000, 80000]}\n",
    "\n",
    "df = pd.DataFrame(data)\n",
    "\n",
    "\n",
    "\n"
   ]
  },
  {
   "cell_type": "code",
   "execution_count": 12,
   "id": "c4c9a042-b547-4e54-a298-b898a9db4798",
   "metadata": {},
   "outputs": [
    {
     "data": {
      "text/html": [
       "<div>\n",
       "<style scoped>\n",
       "    .dataframe tbody tr th:only-of-type {\n",
       "        vertical-align: middle;\n",
       "    }\n",
       "\n",
       "    .dataframe tbody tr th {\n",
       "        vertical-align: top;\n",
       "    }\n",
       "\n",
       "    .dataframe thead th {\n",
       "        text-align: right;\n",
       "    }\n",
       "</style>\n",
       "<table border=\"1\" class=\"dataframe\">\n",
       "  <thead>\n",
       "    <tr style=\"text-align: right;\">\n",
       "      <th></th>\n",
       "      <th>make</th>\n",
       "      <th>model</th>\n",
       "      <th>year</th>\n",
       "      <th>price</th>\n",
       "    </tr>\n",
       "  </thead>\n",
       "  <tbody>\n",
       "    <tr>\n",
       "      <th>0</th>\n",
       "      <td>Toyota</td>\n",
       "      <td>Camry</td>\n",
       "      <td>2018</td>\n",
       "      <td>25000</td>\n",
       "    </tr>\n",
       "    <tr>\n",
       "      <th>1</th>\n",
       "      <td>Honda</td>\n",
       "      <td>Civic</td>\n",
       "      <td>2019</td>\n",
       "      <td>22000</td>\n",
       "    </tr>\n",
       "    <tr>\n",
       "      <th>2</th>\n",
       "      <td>Ford</td>\n",
       "      <td>F-150</td>\n",
       "      <td>2020</td>\n",
       "      <td>30000</td>\n",
       "    </tr>\n",
       "    <tr>\n",
       "      <th>3</th>\n",
       "      <td>Tesla</td>\n",
       "      <td>Model S</td>\n",
       "      <td>2021</td>\n",
       "      <td>80000</td>\n",
       "    </tr>\n",
       "  </tbody>\n",
       "</table>\n",
       "</div>"
      ],
      "text/plain": [
       "     make    model  year  price\n",
       "0  Toyota    Camry  2018  25000\n",
       "1   Honda    Civic  2019  22000\n",
       "2    Ford    F-150  2020  30000\n",
       "3   Tesla  Model S  2021  80000"
      ]
     },
     "execution_count": 12,
     "metadata": {},
     "output_type": "execute_result"
    }
   ],
   "source": [
    "df\n"
   ]
  },
  {
   "cell_type": "code",
   "execution_count": null,
   "id": "38fef976-87af-4cc4-9db4-106af4025fcf",
   "metadata": {},
   "outputs": [],
   "source": [
    "We can access each column of the DataFrame as a Series by using the column label as the key. For example, to access the \"make\" column as a Series, we can do:"
   ]
  },
  {
   "cell_type": "code",
   "execution_count": 13,
   "id": "703760d0-78d3-4932-bdce-b0a289d5d92f",
   "metadata": {},
   "outputs": [],
   "source": [
    "make_series = df['make']\n"
   ]
  },
  {
   "cell_type": "code",
   "execution_count": 14,
   "id": "06dfcb68-baab-41db-8376-ad3faf60b5d4",
   "metadata": {},
   "outputs": [
    {
     "data": {
      "text/plain": [
       "0    Toyota\n",
       "1     Honda\n",
       "2      Ford\n",
       "3     Tesla\n",
       "Name: make, dtype: object"
      ]
     },
     "execution_count": 14,
     "metadata": {},
     "output_type": "execute_result"
    }
   ],
   "source": [
    "make_series"
   ]
  },
  {
   "cell_type": "code",
   "execution_count": null,
   "id": "a36d7a67-6d77-4ba8-8f21-11c3946e6a62",
   "metadata": {},
   "outputs": [],
   "source": [
    "Q5. What are some common functions you can use to manipulate data in a Pandas DataFrame? Can you give an example of when you might use one of these functions?"
   ]
  },
  {
   "cell_type": "code",
   "execution_count": null,
   "id": "dd4715ab-9e0b-4d38-8cd8-f27b35953b38",
   "metadata": {},
   "outputs": [],
   "source": [
    "Answer: There are several common functions available in pandas that you can use to manipulate data in a DataFrame:\n",
    "    1.head() and tail()\n",
    "    2.drop()\n",
    "    3.fillna()\n",
    "    4.merge()\n",
    "    5.sort_values()\n"
   ]
  },
  {
   "cell_type": "code",
   "execution_count": null,
   "id": "1c92db6c-55e0-427c-825d-3a12a1febec0",
   "metadata": {},
   "outputs": [],
   "source": [
    "import pandas as pd\n",
    "\n",
    "data = {'make': ['Toyota', 'Honda', 'Ford', 'Tesla'],\n",
    "        'model': ['Camry', 'Civic', 'F-150', 'Model S'],\n",
    "        'year': [2018, 2019, 2020, 2021],\n",
    "        'price': [25000, 22000, 30000, 80000]}\n",
    "\n",
    "df = pd.DataFrame(data)"
   ]
  },
  {
   "cell_type": "code",
   "execution_count": 15,
   "id": "f9f1b63f-ea24-49f7-b730-cf0caa68e728",
   "metadata": {},
   "outputs": [
    {
     "data": {
      "text/html": [
       "<div>\n",
       "<style scoped>\n",
       "    .dataframe tbody tr th:only-of-type {\n",
       "        vertical-align: middle;\n",
       "    }\n",
       "\n",
       "    .dataframe tbody tr th {\n",
       "        vertical-align: top;\n",
       "    }\n",
       "\n",
       "    .dataframe thead th {\n",
       "        text-align: right;\n",
       "    }\n",
       "</style>\n",
       "<table border=\"1\" class=\"dataframe\">\n",
       "  <thead>\n",
       "    <tr style=\"text-align: right;\">\n",
       "      <th></th>\n",
       "      <th>make</th>\n",
       "      <th>model</th>\n",
       "      <th>year</th>\n",
       "      <th>price</th>\n",
       "    </tr>\n",
       "  </thead>\n",
       "  <tbody>\n",
       "    <tr>\n",
       "      <th>0</th>\n",
       "      <td>Toyota</td>\n",
       "      <td>Camry</td>\n",
       "      <td>2018</td>\n",
       "      <td>25000</td>\n",
       "    </tr>\n",
       "    <tr>\n",
       "      <th>1</th>\n",
       "      <td>Honda</td>\n",
       "      <td>Civic</td>\n",
       "      <td>2019</td>\n",
       "      <td>22000</td>\n",
       "    </tr>\n",
       "    <tr>\n",
       "      <th>2</th>\n",
       "      <td>Ford</td>\n",
       "      <td>F-150</td>\n",
       "      <td>2020</td>\n",
       "      <td>30000</td>\n",
       "    </tr>\n",
       "    <tr>\n",
       "      <th>3</th>\n",
       "      <td>Tesla</td>\n",
       "      <td>Model S</td>\n",
       "      <td>2021</td>\n",
       "      <td>80000</td>\n",
       "    </tr>\n",
       "  </tbody>\n",
       "</table>\n",
       "</div>"
      ],
      "text/plain": [
       "     make    model  year  price\n",
       "0  Toyota    Camry  2018  25000\n",
       "1   Honda    Civic  2019  22000\n",
       "2    Ford    F-150  2020  30000\n",
       "3   Tesla  Model S  2021  80000"
      ]
     },
     "execution_count": 15,
     "metadata": {},
     "output_type": "execute_result"
    }
   ],
   "source": [
    "df"
   ]
  },
  {
   "cell_type": "code",
   "execution_count": 16,
   "id": "510b18f5-c182-4508-9e88-7850e7797246",
   "metadata": {},
   "outputs": [
    {
     "data": {
      "text/html": [
       "<div>\n",
       "<style scoped>\n",
       "    .dataframe tbody tr th:only-of-type {\n",
       "        vertical-align: middle;\n",
       "    }\n",
       "\n",
       "    .dataframe tbody tr th {\n",
       "        vertical-align: top;\n",
       "    }\n",
       "\n",
       "    .dataframe thead th {\n",
       "        text-align: right;\n",
       "    }\n",
       "</style>\n",
       "<table border=\"1\" class=\"dataframe\">\n",
       "  <thead>\n",
       "    <tr style=\"text-align: right;\">\n",
       "      <th></th>\n",
       "      <th>make</th>\n",
       "      <th>model</th>\n",
       "      <th>year</th>\n",
       "      <th>price</th>\n",
       "    </tr>\n",
       "  </thead>\n",
       "  <tbody>\n",
       "    <tr>\n",
       "      <th>0</th>\n",
       "      <td>Toyota</td>\n",
       "      <td>Camry</td>\n",
       "      <td>2018</td>\n",
       "      <td>25000</td>\n",
       "    </tr>\n",
       "    <tr>\n",
       "      <th>1</th>\n",
       "      <td>Honda</td>\n",
       "      <td>Civic</td>\n",
       "      <td>2019</td>\n",
       "      <td>22000</td>\n",
       "    </tr>\n",
       "  </tbody>\n",
       "</table>\n",
       "</div>"
      ],
      "text/plain": [
       "     make  model  year  price\n",
       "0  Toyota  Camry  2018  25000\n",
       "1   Honda  Civic  2019  22000"
      ]
     },
     "execution_count": 16,
     "metadata": {},
     "output_type": "execute_result"
    }
   ],
   "source": [
    "df.head(2)"
   ]
  },
  {
   "cell_type": "code",
   "execution_count": 18,
   "id": "142f8dc9-b34e-42af-9f7f-536fc830d87c",
   "metadata": {},
   "outputs": [
    {
     "data": {
      "text/html": [
       "<div>\n",
       "<style scoped>\n",
       "    .dataframe tbody tr th:only-of-type {\n",
       "        vertical-align: middle;\n",
       "    }\n",
       "\n",
       "    .dataframe tbody tr th {\n",
       "        vertical-align: top;\n",
       "    }\n",
       "\n",
       "    .dataframe thead th {\n",
       "        text-align: right;\n",
       "    }\n",
       "</style>\n",
       "<table border=\"1\" class=\"dataframe\">\n",
       "  <thead>\n",
       "    <tr style=\"text-align: right;\">\n",
       "      <th></th>\n",
       "      <th>make</th>\n",
       "      <th>model</th>\n",
       "      <th>year</th>\n",
       "      <th>price</th>\n",
       "    </tr>\n",
       "  </thead>\n",
       "  <tbody>\n",
       "    <tr>\n",
       "      <th>2</th>\n",
       "      <td>Ford</td>\n",
       "      <td>F-150</td>\n",
       "      <td>2020</td>\n",
       "      <td>30000</td>\n",
       "    </tr>\n",
       "    <tr>\n",
       "      <th>3</th>\n",
       "      <td>Tesla</td>\n",
       "      <td>Model S</td>\n",
       "      <td>2021</td>\n",
       "      <td>80000</td>\n",
       "    </tr>\n",
       "  </tbody>\n",
       "</table>\n",
       "</div>"
      ],
      "text/plain": [
       "    make    model  year  price\n",
       "2   Ford    F-150  2020  30000\n",
       "3  Tesla  Model S  2021  80000"
      ]
     },
     "execution_count": 18,
     "metadata": {},
     "output_type": "execute_result"
    }
   ],
   "source": [
    "df.tail(2)"
   ]
  },
  {
   "cell_type": "code",
   "execution_count": 19,
   "id": "ce65c7ef-a40e-4f3d-8c83-68ec77aaeba0",
   "metadata": {},
   "outputs": [
    {
     "data": {
      "text/html": [
       "<div>\n",
       "<style scoped>\n",
       "    .dataframe tbody tr th:only-of-type {\n",
       "        vertical-align: middle;\n",
       "    }\n",
       "\n",
       "    .dataframe tbody tr th {\n",
       "        vertical-align: top;\n",
       "    }\n",
       "\n",
       "    .dataframe thead th {\n",
       "        text-align: right;\n",
       "    }\n",
       "</style>\n",
       "<table border=\"1\" class=\"dataframe\">\n",
       "  <thead>\n",
       "    <tr style=\"text-align: right;\">\n",
       "      <th></th>\n",
       "      <th>make</th>\n",
       "      <th>price</th>\n",
       "    </tr>\n",
       "  </thead>\n",
       "  <tbody>\n",
       "    <tr>\n",
       "      <th>0</th>\n",
       "      <td>Toyota</td>\n",
       "      <td>25000</td>\n",
       "    </tr>\n",
       "    <tr>\n",
       "      <th>1</th>\n",
       "      <td>Honda</td>\n",
       "      <td>22000</td>\n",
       "    </tr>\n",
       "    <tr>\n",
       "      <th>2</th>\n",
       "      <td>Ford</td>\n",
       "      <td>30000</td>\n",
       "    </tr>\n",
       "    <tr>\n",
       "      <th>3</th>\n",
       "      <td>Tesla</td>\n",
       "      <td>80000</td>\n",
       "    </tr>\n",
       "  </tbody>\n",
       "</table>\n",
       "</div>"
      ],
      "text/plain": [
       "     make  price\n",
       "0  Toyota  25000\n",
       "1   Honda  22000\n",
       "2    Ford  30000\n",
       "3   Tesla  80000"
      ]
     },
     "execution_count": 19,
     "metadata": {},
     "output_type": "execute_result"
    }
   ],
   "source": [
    "df.drop(columns=['model','year'])"
   ]
  },
  {
   "cell_type": "code",
   "execution_count": null,
   "id": "51c397d8-b070-4cbe-9c06-effe6ac64193",
   "metadata": {},
   "outputs": [],
   "source": [
    "Q6. Which of the following is mutable in nature Series, DataFrame, Panel?"
   ]
  },
  {
   "cell_type": "code",
   "execution_count": null,
   "id": "72d54c26-7f0d-44af-b069-ef078c000ea2",
   "metadata": {},
   "outputs": [],
   "source": [
    "Answer:  Series and DataFrame are mutable in nature."
   ]
  },
  {
   "cell_type": "code",
   "execution_count": null,
   "id": "c0349524-92b9-487c-ac7f-ba37d4656ac9",
   "metadata": {},
   "outputs": [],
   "source": [
    "Q7. Create a DataFrame using multiple Series. Explain with an example."
   ]
  },
  {
   "cell_type": "code",
   "execution_count": null,
   "id": "01c68ac9-5845-41ad-865d-9ec0658db2b6",
   "metadata": {},
   "outputs": [],
   "source": [
    "Answer: To create a DataFrame using multiple Series in pandas, you can use the pd.DataFrame() function and pass in a dictionary where each key is a column name and each value is a Series."
   ]
  },
  {
   "cell_type": "code",
   "execution_count": 21,
   "id": "aabf17d9-324f-4f84-9fe0-d9345476457e",
   "metadata": {},
   "outputs": [],
   "source": [
    "import pandas as pd\n",
    "\n",
    "name = pd.Series(['Alice', 'Bob', 'Charlie', 'David'])\n",
    "age = pd.Series([25, 30, 35, 40])\n",
    "salary = pd.Series([50000, 60000, 70000, 80000])\n",
    "\n",
    "df1 = pd.DataFrame({'Name': name, 'Age': age, 'Salary': salary})\n"
   ]
  },
  {
   "cell_type": "code",
   "execution_count": 22,
   "id": "2184a8d7-ac52-46e8-94e2-aca5f499b6d6",
   "metadata": {},
   "outputs": [
    {
     "data": {
      "text/html": [
       "<div>\n",
       "<style scoped>\n",
       "    .dataframe tbody tr th:only-of-type {\n",
       "        vertical-align: middle;\n",
       "    }\n",
       "\n",
       "    .dataframe tbody tr th {\n",
       "        vertical-align: top;\n",
       "    }\n",
       "\n",
       "    .dataframe thead th {\n",
       "        text-align: right;\n",
       "    }\n",
       "</style>\n",
       "<table border=\"1\" class=\"dataframe\">\n",
       "  <thead>\n",
       "    <tr style=\"text-align: right;\">\n",
       "      <th></th>\n",
       "      <th>Name</th>\n",
       "      <th>Age</th>\n",
       "      <th>Salary</th>\n",
       "    </tr>\n",
       "  </thead>\n",
       "  <tbody>\n",
       "    <tr>\n",
       "      <th>0</th>\n",
       "      <td>Alice</td>\n",
       "      <td>25</td>\n",
       "      <td>50000</td>\n",
       "    </tr>\n",
       "    <tr>\n",
       "      <th>1</th>\n",
       "      <td>Bob</td>\n",
       "      <td>30</td>\n",
       "      <td>60000</td>\n",
       "    </tr>\n",
       "    <tr>\n",
       "      <th>2</th>\n",
       "      <td>Charlie</td>\n",
       "      <td>35</td>\n",
       "      <td>70000</td>\n",
       "    </tr>\n",
       "    <tr>\n",
       "      <th>3</th>\n",
       "      <td>David</td>\n",
       "      <td>40</td>\n",
       "      <td>80000</td>\n",
       "    </tr>\n",
       "  </tbody>\n",
       "</table>\n",
       "</div>"
      ],
      "text/plain": [
       "      Name  Age  Salary\n",
       "0    Alice   25   50000\n",
       "1      Bob   30   60000\n",
       "2  Charlie   35   70000\n",
       "3    David   40   80000"
      ]
     },
     "execution_count": 22,
     "metadata": {},
     "output_type": "execute_result"
    }
   ],
   "source": [
    "df1"
   ]
  },
  {
   "cell_type": "code",
   "execution_count": null,
   "id": "096b7743-038b-4fe6-9150-c702007388e3",
   "metadata": {},
   "outputs": [],
   "source": []
  }
 ],
 "metadata": {
  "kernelspec": {
   "display_name": "Python 3 (ipykernel)",
   "language": "python",
   "name": "python3"
  },
  "language_info": {
   "codemirror_mode": {
    "name": "ipython",
    "version": 3
   },
   "file_extension": ".py",
   "mimetype": "text/x-python",
   "name": "python",
   "nbconvert_exporter": "python",
   "pygments_lexer": "ipython3",
   "version": "3.10.6"
  }
 },
 "nbformat": 4,
 "nbformat_minor": 5
}
