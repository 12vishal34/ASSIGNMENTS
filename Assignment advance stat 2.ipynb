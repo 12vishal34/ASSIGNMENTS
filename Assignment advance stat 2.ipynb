{
 "cells": [
  {
   "cell_type": "code",
   "execution_count": null,
   "id": "bb7a9f02-a134-4960-8fe0-4d64082b18f2",
   "metadata": {},
   "outputs": [],
   "source": [
    "Q1: What are the Probability Mass Function (PMF) and Probability Density Function (PDF)? Explain with\n",
    "an example."
   ]
  },
  {
   "cell_type": "code",
   "execution_count": null,
   "id": "810695a8-2a84-4135-b266-69fa1d04ac61",
   "metadata": {},
   "outputs": [],
   "source": [
    "Answer:The Probability Mass Function (PMF) and Probability Density Function (PDF) are both mathematical functions used to describe the probability distribution of a random variable. The main difference between them is that the PMF is used for discrete random variables, while the PDF is used for continuous random variables.\n",
    "The PMF is a function that maps each possible outcome of a discrete random variable to its probability of occurrence. It gives the probability that the random variable takes on a specific value. For example, consider rolling a fair six-sided die. The PMF of the random variable X, which represents the outcome of rolling the die, is:\n",
    "P(X = 1) = 1/6\n",
    "P(X = 2) = 1/6\n",
    "P(X = 3) = 1/6\n",
    "P(X = 4) = 1/6\n",
    "P(X = 5) = 1/6\n",
    "P(X = 6) = 1/6\n",
    "The sum of all the probabilities in the PMF must equal 1, since one of the possible outcomes must occur.\n",
    "\n",
    "On the other hand, the PDF is a function that describes the probability distribution of a continuous random variable. It gives the probability density of the random variable at a specific point. For example, consider the height of students in a class, which is a continuous random variable. The PDF of the random variable X, which represents the height of a student, may be normally distributed with a mean of 170 cm and a standard deviation of 10 cm. The PDF of X is:\n",
    "f(x) = (1 / (σ * sqrt(2 * π))) * exp(-(x - μ)² / (2 * σ²))\n",
    "where μ is the mean, σ is the standard deviation, and π is the mathematical constant pi.\n",
    "The area under the PDF curve over a certain range gives the probability of the random variable falling within that range.\n",
    "In summary, the PMF and PDF are both mathematical functions used to describe the probability distribution of a random variable. The PMF is used for discrete random variables, while the PDF is used for continuous random variables."
   ]
  },
  {
   "cell_type": "code",
   "execution_count": null,
   "id": "17fd7173-95e4-4eb7-9ffb-f2a1c013836b",
   "metadata": {},
   "outputs": [],
   "source": [
    "Q2: What is Cumulative Density Function (CDF)? Explain with an example. Why CDF is used?"
   ]
  },
  {
   "cell_type": "code",
   "execution_count": null,
   "id": "0241586f-259f-487e-b7a8-10e34a3699bd",
   "metadata": {},
   "outputs": [],
   "source": [
    "Answer:The Cumulative Density Function (CDF) is a mathematical function that shows the probability of a random variable being less than or equal to a certain value. It is used to describe the probability distribution of a random variable, whether it is discrete or continuous. \n",
    "An example of a CDF is the probability of rolling a six-sided die and getting a number less than or equal to 3, which would be 0.5 (since half of the possible outcomes are less than or equal to 3).\n",
    "\n",
    "The CDF is used to calculate probabilities of ranges of outcomes, rather than just specific outcomes. It can also be used to find percentiles of a distribution, which are the values below which a certain percentage of the data falls. The CDF is a fundamental concept in probability theory and statistics, and is used extensively in data analysis, hypothesis testing, and decision-making"
   ]
  },
  {
   "cell_type": "code",
   "execution_count": null,
   "id": "d331abc6-5563-4879-81bd-8006d240c098",
   "metadata": {},
   "outputs": [],
   "source": [
    "Q3: What are some examples of situations where the normal distribution might be used as a model?\n",
    "Explain how the parameters of the normal distribution relate to the shape of the distribution."
   ]
  },
  {
   "cell_type": "code",
   "execution_count": null,
   "id": "838d09c0-87e6-41f4-8bde-599ad93f5104",
   "metadata": {},
   "outputs": [],
   "source": [
    "Answer:The normal distribution is widely used as a model in various fields such as physics, finance, social sciences, and engineering. \n",
    "Some examples of situations where the normal distribution might be used as a model are measurements of physical properties like height and weight, scores on intelligence tests, and errors in measurements or experiments. The normal distribution can also be used as an approximation for other probability distributions.\n",
    "\n",
    "The normal distribution is defined by two parameters - the mean (μ) and the standard deviation (σ).\n",
    "The mean determines the central tendency of the distribution, while the standard deviation measures the spread or variability of the distribution. When the mean is shifted to the right or left, the entire distribution shifts accordingly. When the standard deviation is increased or decreased, the distribution becomes wider or narrower, respectively. \n",
    "The shape of the normal distribution is symmetric around the mean, with the highest point of the curve being at the mean. The standard deviation determines the steepness of the curve and how spread out the tails are.\n",
    "\n",
    "\n",
    "\n"
   ]
  },
  {
   "cell_type": "code",
   "execution_count": null,
   "id": "e03c3d0e-109a-47d8-a668-610758cd391a",
   "metadata": {},
   "outputs": [],
   "source": [
    "Q4: Explain the importance of Normal Distribution. Give a few real-life examples of Normal\n",
    "Distribution."
   ]
  },
  {
   "cell_type": "code",
   "execution_count": null,
   "id": "49603cd5-dbfb-41ec-b9b4-f501c7588320",
   "metadata": {},
   "outputs": [],
   "source": [
    "Answer:Normal distribution is an important concept in statistics and probability theory because many natural phenomena and processes exhibit this pattern of distribution. \n",
    "It is a continuous probability distribution that is symmetric around its mean and characterized by the parameters mean and standard deviation.\n",
    "Normal distribution plays a crucial role in hypothesis testing, confidence intervals, and parameter estimation.\n",
    "\n",
    "There are numerous real-life examples of normal distribution, such as the distribution of heights and weights of a population, IQ scores, measurement errors, blood pressure readings, and exam scores.\n",
    "For instance, the heights of adult males in a population tend to follow a normal distribution with a mean around 5'9\" and a standard deviation of 2.8 inches. Another example is IQ scores, which follow a normal distribution with a mean of 100 and a standard deviation of 15. In finance, stock returns are often assumed to follow a normal distribution, which is a critical assumption in many models of financial analysis and risk management.\n",
    "\n"
   ]
  },
  {
   "cell_type": "code",
   "execution_count": null,
   "id": "e650e86b-8c74-4c6c-b4d4-2d5432742116",
   "metadata": {},
   "outputs": [],
   "source": [
    "Q5: What is Bernaulli Distribution? Give an Example. What is the difference between Bernoulli\n",
    "Distribution and Binomial Distribution?"
   ]
  },
  {
   "cell_type": "code",
   "execution_count": null,
   "id": "08931304-a528-48fb-8c36-e41660949bd0",
   "metadata": {},
   "outputs": [],
   "source": [
    "Answer:The Bernoulli distribution is a discrete probability distribution that represents the outcomes of a single experiment or trial with only two possible outcomes - success or failure. It is named after Swiss mathematician Jacob Bernoulli, who introduced the concept of the distribution in his book \"Ars Conjectandi\" in 1713. \n",
    "The Bernoulli distribution is characterized by a single parameter, the probability of success (p).\n",
    "\n",
    "An example of Bernoulli distribution is the flip of a coin, where success could be heads (with probability p) and failure could be tails (with probability 1-p).\n",
    "Another example is whether a given email is spam or not, where success could be spam (with probability p) and failure could be not spam (with probability 1-p).\n",
    "\n",
    "The main difference between Bernoulli and Binomial distribution is that the Bernoulli distribution represents the outcome of a single trial, whereas the binomial distribution represents the number of successes in a fixed number of independent trials.\n",
    "In other words, the Bernoulli distribution is a special case of the binomial distribution with n=1 (i.e., one trial). The binomial distribution is characterized by two parameters - the number of trials (n) and the probability of success in each trial (p).\n",
    "\n",
    "\n",
    "\n"
   ]
  },
  {
   "cell_type": "code",
   "execution_count": null,
   "id": "e5a49932-c56d-4ef4-8e45-f2a96cbba87e",
   "metadata": {},
   "outputs": [],
   "source": [
    "Q6. Consider a dataset with a mean of 50 and a standard deviation of 10. If we assume that the dataset\n",
    "is normally distributed, what is the probability that a randomly selected observation will be greater\n",
    "than 60? Use the appropriate formula and show your calculations."
   ]
  },
  {
   "cell_type": "code",
   "execution_count": null,
   "id": "ebda5d83-7e64-4a30-a092-bc15970d68a9",
   "metadata": {},
   "outputs": [],
   "source": [
    "Answer:The Z-score formula is: Z = (X - mean) / std, where X is the value we are interested in. \n",
    "\n",
    "In this case, X = 60, mean = 50, and std= 10. Substituting these values into the formula, we get:\n",
    "\n",
    "Z = (60 - 50) / 10 = 1\n",
    "\n",
    "Next, we use the standard normal distribution table (also known as the Z-table) to find the area under the standard normal distribution curve to the right of the Z-score of 1. The table provides the area to the left of a given Z-score, so we need to subtract that value from 1 to get the area to the right.\n",
    "\n",
    "From the table, we find that the area to the left of a Z-score of 1 is 0.8413. Therefore, the area to the right of the Z-score of 1 is:\n",
    "\n",
    "1 - 0.8413 = 0.1587\n",
    "\n",
    "So the probability that a randomly selected observation from this dataset will be greater than 60 is approximately 0.1587, or 15.87%"
   ]
  },
  {
   "cell_type": "code",
   "execution_count": null,
   "id": "5f9af7c8-e771-44dc-8b0a-158f5950e89b",
   "metadata": {},
   "outputs": [],
   "source": [
    "Q7: Explain uniform Distribution with an example."
   ]
  },
  {
   "cell_type": "code",
   "execution_count": null,
   "id": "fc625eb0-b2fa-4472-a673-fd564c809eaa",
   "metadata": {},
   "outputs": [],
   "source": [
    "Answer:The uniform distribution is a probability distribution where every value within a given interval is equally likely to occur. This means that the probability density function (PDF) is constant within the interval and zero outside of it. The uniform distribution is often used as a simple model for situations where there is no reason to favor any particular value within the given interval.\n",
    "For example, let's consider rolling a fair six-sided die. The possible outcomes are the integers 1 through 6, each with equal probability of 1/6. This is an example of a discrete uniform distribution, where each possible outcome has an equal probability of occurring.\n",
    "Now, let's consider a continuous uniform distribution. Suppose we have a rectangular garden with an area of 100 square meters. If we randomly select a point within the garden, the probability of selecting any given area within the garden is proportional to its size. Since the garden has an area of 100 square meters, the probability of selecting any particular 1 square meter area is 1/100. Therefore, the probability density function for this uniform distribution is f(x) = 1/100 for 0 ≤ x ≤ 10, and f(x) = 0 for x < 0 or x > 10.\n",
    "In general, the uniform distribution is useful in situations where there is no bias towards any particular value within a given range. It is a simple and easy-to-use model for such situations, and it has many applications in fields such as physics, engineering, and finance.\n",
    "\n",
    "\n",
    "\n"
   ]
  },
  {
   "cell_type": "code",
   "execution_count": null,
   "id": "847f57d1-5940-4d94-b578-2727088b3e92",
   "metadata": {},
   "outputs": [],
   "source": [
    "Q8: What is the z score? State the importance of the z score."
   ]
  },
  {
   "cell_type": "code",
   "execution_count": null,
   "id": "345126ba-cd92-4f53-87eb-16e12849ab5e",
   "metadata": {},
   "outputs": [],
   "source": [
    "Answer:The z-score is a standardized measure that represents the number of standard deviations a data point is from the mean of a distribution.\n",
    "The z-score is important because it allows us to standardize data across different distributions, making it easier to compare and analyze. By transforming data into z-scores, we can determine how unusual or extreme a particular value is compared to the rest of the population. The z-score is widely used in hypothesis testing, confidence interval estimation, and probability calculations, making it a powerful tool in statistics."
   ]
  },
  {
   "cell_type": "code",
   "execution_count": null,
   "id": "2bcb60a6-36d1-48c1-8f9b-0fbd4defb0f1",
   "metadata": {},
   "outputs": [],
   "source": [
    "Q9: What is Central Limit Theorem? State the significance of the Central Limit Theorem."
   ]
  },
  {
   "cell_type": "code",
   "execution_count": null,
   "id": "8c706948-72ca-43f8-8d94-699014da308b",
   "metadata": {},
   "outputs": [],
   "source": [
    "Answer:The Central Limit Theorem (CLT) is a statistical concept that states that the sampling distribution of the sample mean will approach a normal distribution as the sample size increases, regardless of the shape of the population distribution. This means that the mean of the sample means will be the population mean and the variance of the sample means will be the population variance divided by the sample size. \n",
    "The CLT has significant applications in hypothesis testing and confidence interval estimation for population parameters, such as the mean or standard deviation. It is widely used in various fields, including finance, engineering, social sciences, and more. The CLT is a powerful tool that allows us to make statistical inferences about population parameters based on sample statistics, even when the population distribution is not known or is non-normal.\n",
    "Overall, the CLT is a fundamental concept in statistics and a key to making reliable inferences from data.\n",
    "\n",
    "\n",
    "\n"
   ]
  },
  {
   "cell_type": "code",
   "execution_count": null,
   "id": "d557d777-828c-4c07-b00b-cd6f297e594a",
   "metadata": {},
   "outputs": [],
   "source": [
    "Q10: State the assumptions of the Central Limit Theorem."
   ]
  },
  {
   "cell_type": "code",
   "execution_count": null,
   "id": "935066cb-4b8b-4b10-9e2e-c40acdc0bbc7",
   "metadata": {},
   "outputs": [],
   "source": [
    "Answer: The assumptions of the CLT are:\n",
    "    1.Independence: The samples must be independent of each other. Each observation in the sample must be randomly selected and should not be influenced by any other observation in the sample.\n",
    "    2.Sample Size: The sample size should be sufficiently large. There is no fixed rule for the minimum sample size required, but generally, a sample size of at least 30 is considered to be sufficient to apply the CLT.\n",
    "    3.Finite Variance: The population distribution should have a finite variance. If the variance of the population is infinite or does not exist, the CLT may not hold.\n",
    "    4.Identical Distribution: The samples should be drawn from the same population, or from populations with identical distributions.\n"
   ]
  },
  {
   "cell_type": "code",
   "execution_count": null,
   "id": "36bb1702-485c-40be-a398-5c1ef690d591",
   "metadata": {},
   "outputs": [],
   "source": []
  }
 ],
 "metadata": {
  "kernelspec": {
   "display_name": "Python 3 (ipykernel)",
   "language": "python",
   "name": "python3"
  },
  "language_info": {
   "codemirror_mode": {
    "name": "ipython",
    "version": 3
   },
   "file_extension": ".py",
   "mimetype": "text/x-python",
   "name": "python",
   "nbconvert_exporter": "python",
   "pygments_lexer": "ipython3",
   "version": "3.10.6"
  }
 },
 "nbformat": 4,
 "nbformat_minor": 5
}
