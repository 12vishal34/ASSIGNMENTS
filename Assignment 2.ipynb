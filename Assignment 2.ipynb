{
 "cells": [
  {
   "cell_type": "code",
   "execution_count": 1,
   "id": "9a01f68f-334b-4a32-a77f-7b89a563c9db",
   "metadata": {},
   "outputs": [
    {
     "name": "stdin",
     "output_type": "stream",
     "text": [
      "Enter Your Marks 95\n"
     ]
    },
    {
     "name": "stdout",
     "output_type": "stream",
     "text": [
      "Grade A\n"
     ]
    }
   ],
   "source": [
    "#1.Program to accept Marks from user and display Grade.   \n",
    "Marks= int(input(\"Enter Your Marks\"))\n",
    "if Marks >90:\n",
    "    print(\"Grade A\")\n",
    "elif Marks >80 and Marks<=90:\n",
    "    print(\"Grade B\")\n",
    "elif Marks >=60 and Marks <=80:\n",
    "    print(\"Grade C\")\n",
    "else:\n",
    "    print(\"Grade D\")"
   ]
  },
  {
   "cell_type": "code",
   "execution_count": 15,
   "id": "31445209-56bb-49db-8068-b76f3c9ca877",
   "metadata": {},
   "outputs": [
    {
     "name": "stdin",
     "output_type": "stream",
     "text": [
      "Enter Price of Bike 80000\n"
     ]
    },
    {
     "name": "stdout",
     "output_type": "stream",
     "text": [
      "Pay 10% Road Tax\n"
     ]
    }
   ],
   "source": [
    "#2.Program to accept cost price of bike and display the road tax to be paid. \n",
    "Price=int(input(\"Enter Price of Bike\"))\n",
    "if Price>100000:\n",
    "    print(\"Pay 15% Road Tax\")\n",
    "if Price >50000 and Price <=100000:\n",
    "    print(\"Pay 10% Road Tax\")\n",
    "else:\n",
    "    print(\"Pay 5% Road Tax\")"
   ]
  },
  {
   "cell_type": "code",
   "execution_count": 29,
   "id": "b8fccdaf-d74b-40f9-8169-7f55f07a0e06",
   "metadata": {},
   "outputs": [
    {
     "name": "stdin",
     "output_type": "stream",
     "text": [
      "Enter a city agra\n"
     ]
    },
    {
     "name": "stdout",
     "output_type": "stream",
     "text": [
      "Taj Mahal\n"
     ]
    }
   ],
   "source": [
    "#3.Program to accept any city from user and display monument of that city.\n",
    "city = input(\"Enter a city\")\n",
    "if city.upper() == \"DELHI\":\n",
    "     print(\"Red Fort\")\n",
    "elif city.upper() == \"AGRA\":\n",
    "    print(\"Taj Mahal\")\n",
    "elif city.upper() == \"JAIPUR\":\n",
    "    print(\"Jal Mahal\")\n",
    "else:\n",
    "    print(\"Enter a valid city\")\n",
    "\n"
   ]
  },
  {
   "cell_type": "code",
   "execution_count": 7,
   "id": "8860c104-7d05-4edd-acbf-930bb1a63dd2",
   "metadata": {},
   "outputs": [
    {
     "name": "stdin",
     "output_type": "stream",
     "text": [
      "Enter your number 11\n"
     ]
    },
    {
     "name": "stdout",
     "output_type": "stream",
     "text": [
      "11 is NOT Divisible by 3\n"
     ]
    }
   ],
   "source": [
    "#4.Program to check how many times a number can be divided by 3 before it is less than or equal to 10.\n",
    "num = int(input(\"Enter your number\"))\n",
    "\n",
    "if num%3==0 and num <=10:\n",
    "    print(num , 'is Divisible by 3') \n",
    "else:\n",
    "    print(num , 'is NOT Divisible by 3')\n"
   ]
  },
  {
   "cell_type": "code",
   "execution_count": 9,
   "id": "11bfb9af-a575-4c39-b42e-7702ec0555a5",
   "metadata": {},
   "outputs": [
    {
     "name": "stdout",
     "output_type": "stream",
     "text": [
      "1\n",
      "2\n",
      "3\n"
     ]
    }
   ],
   "source": [
    "#5.Why and when to use while loop in python give a detail description with example.\n",
    "#Answer:A while loop in Python is used to execute a block of code repeatedly as long as the specified condition is true. It is used to perform iteration until a certain condition is met.\n",
    "#Here is an example of using a while loop in Python:\n",
    "a=1\n",
    "\n",
    "while a<4:\n",
    "    print(a)\n",
    "    a=a+1\n",
    "\n",
    "#It is important to note that if the condition in the while loop never becomes False, the loop will run indefinitely. To avoid this situation, you should always make sure that the condition will eventually become False at some point.\n",
    "#You should use a while loop when you want to repeat a block of code as long as a certain condition is true. For example, you could use a while loop to keep asking the user for input until they enter the correct password."
   ]
  },
  {
   "cell_type": "code",
   "execution_count": 17,
   "id": "ca9dbbc2-8191-4d47-a96f-01e21798987e",
   "metadata": {},
   "outputs": [
    {
     "name": "stdout",
     "output_type": "stream",
     "text": [
      "*\n",
      "**\n",
      "***\n",
      "****\n",
      "*****\n"
     ]
    }
   ],
   "source": [
    "#6. use nested while loop to print 3 different pattern.\n",
    "#Answer:\n",
    "#1 pyramid patter\n",
    "a=5\n",
    "for i in range(1, a + 1):\n",
    "    for j in range(1, i + 1):\n",
    "        print(\"*\", end=\"\")\n",
    "    print()\n"
   ]
  },
  {
   "cell_type": "code",
   "execution_count": 19,
   "id": "5db870ef-33e6-4243-8410-b6f8d57cbbb8",
   "metadata": {},
   "outputs": [
    {
     "name": "stdout",
     "output_type": "stream",
     "text": [
      "*****\n",
      "****\n",
      "***\n",
      "**\n",
      "*\n"
     ]
    }
   ],
   "source": [
    "#2 inverted pyramid pattern\n",
    "b = 5\n",
    "for i in range(b, 0, -1):\n",
    "    for j in range(0, i):\n",
    "        print(\"*\", end=\"\")\n",
    "    print()\n"
   ]
  },
  {
   "cell_type": "code",
   "execution_count": 20,
   "id": "a59a86a4-c48e-4ad4-be88-71106873b100",
   "metadata": {},
   "outputs": [
    {
     "name": "stdout",
     "output_type": "stream",
     "text": [
      "*\n",
      "**\n",
      "***\n",
      "****\n",
      "*****\n",
      "****\n",
      "***\n",
      "**\n",
      "*\n"
     ]
    }
   ],
   "source": [
    "#3 Hourglass pattern\n",
    "c = 5\n",
    "for i in range(1, c+ 1):\n",
    "    for j in range(1, i + 1):\n",
    "        print(\"*\", end=\"\")\n",
    "    print()\n",
    "for i in range(c - 1, 0, -1):\n",
    "    for j in range(0, i):\n",
    "        print(\"*\", end=\"\")\n",
    "    print()\n"
   ]
  },
  {
   "cell_type": "code",
   "execution_count": 22,
   "id": "4d19d17f-adbe-4147-a472-6845c9cd8c2e",
   "metadata": {},
   "outputs": [
    {
     "name": "stdout",
     "output_type": "stream",
     "text": [
      "10\n",
      "9\n",
      "8\n",
      "7\n",
      "6\n",
      "5\n",
      "4\n",
      "3\n",
      "2\n",
      "1\n"
     ]
    }
   ],
   "source": [
    "#7.Reverse a while loop to display numbers from 10 to 1.\n",
    "count = 10\n",
    "while count >= 1:\n",
    "    print(count)\n",
    "    count= count- 1\n"
   ]
  },
  {
   "cell_type": "code",
   "execution_count": 24,
   "id": "ab77197c-210d-47ac-a7c3-fd34f1d2be56",
   "metadata": {},
   "outputs": [
    {
     "name": "stdout",
     "output_type": "stream",
     "text": [
      "10\n",
      "9\n",
      "8\n",
      "7\n",
      "6\n",
      "5\n",
      "4\n",
      "3\n",
      "2\n",
      "1\n"
     ]
    }
   ],
   "source": [
    "#8.Reverse a for loop to display numbers from 10 to 1.\n",
    "for i in reversed(range(1, 11)):\n",
    "    print(i)\n",
    "\n"
   ]
  },
  {
   "cell_type": "code",
   "execution_count": null,
   "id": "57921150-4c9e-42ff-9ed8-330996b971e3",
   "metadata": {},
   "outputs": [],
   "source": []
  }
 ],
 "metadata": {
  "kernelspec": {
   "display_name": "Python 3 (ipykernel)",
   "language": "python",
   "name": "python3"
  },
  "language_info": {
   "codemirror_mode": {
    "name": "ipython",
    "version": 3
   },
   "file_extension": ".py",
   "mimetype": "text/x-python",
   "name": "python",
   "nbconvert_exporter": "python",
   "pygments_lexer": "ipython3",
   "version": "3.10.6"
  }
 },
 "nbformat": 4,
 "nbformat_minor": 5
}
