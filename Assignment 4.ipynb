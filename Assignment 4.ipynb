{
 "cells": [
  {
   "cell_type": "code",
   "execution_count": 18,
   "id": "3b9632a0-caf9-4071-b2e8-65574a7be65d",
   "metadata": {},
   "outputs": [],
   "source": [
    "Q1.which keyword is used to create a function? Create a function to return a list of odd numbers in the range of 1 to 25.\n",
    "\n",
    "Answer: The def keyword is used to create a function.\n",
    "def odd_number():\n",
    "    l=[]\n",
    "    for num in range(1,26):\n",
    "        if num %2 !=0:\n",
    "            l.append(num)\n",
    "    return l\n",
    "\n",
    "    \n",
    "               "
   ]
  },
  {
   "cell_type": "code",
   "execution_count": 16,
   "id": "c43d2aa6-8d83-427e-8f99-7ff60bb2d25d",
   "metadata": {},
   "outputs": [
    {
     "data": {
      "text/plain": [
       "[1, 3, 5, 7, 9, 11, 13, 15, 17, 19, 21, 23, 25]"
      ]
     },
     "execution_count": 16,
     "metadata": {},
     "output_type": "execute_result"
    }
   ],
   "source": [
    "odd_number()\n"
   ]
  },
  {
   "cell_type": "code",
   "execution_count": 19,
   "id": "ccab4abd-7cd2-4120-8e84-a0afee6eff33",
   "metadata": {},
   "outputs": [],
   "source": [
    "Q2. Why *args and **kwargs is used in some functions? Create a function each for *args and **kwargs to demonstrate their use.\n",
    "\n",
    "Answer:The *args syntax allows you to pass any number of positional arguments to a function, which are then collected into a tuple.\n",
    "\n",
    "       The **kwargs syntax allows you to pass any number of keyword arguments to a function, which are then collected into a dictionary. \n",
    "\n",
    "def test(**kwargs):\n",
    "    return kwargs"
   ]
  },
  {
   "cell_type": "code",
   "execution_count": 20,
   "id": "b0d80d9f-f07c-4e87-8528-a6e210135cde",
   "metadata": {},
   "outputs": [
    {
     "data": {
      "text/plain": [
       "{'a': [1, 3, 5], 'b': 'vishal', 'c': 1.2}"
      ]
     },
     "execution_count": 20,
     "metadata": {},
     "output_type": "execute_result"
    }
   ],
   "source": [
    "test(a=[1,3,5],b=\"vishal\",c=1.2)"
   ]
  },
  {
   "cell_type": "code",
   "execution_count": 21,
   "id": "31894b22-e074-4f92-9586-55e7ab1b3a61",
   "metadata": {},
   "outputs": [],
   "source": [
    "def test1(*args):\n",
    "    return args"
   ]
  },
  {
   "cell_type": "code",
   "execution_count": 22,
   "id": "4a79e6e9-d6de-45ce-bcef-b511be0d92d3",
   "metadata": {},
   "outputs": [
    {
     "data": {
      "text/plain": [
       "(2, 33, 44, 'vishal', 'rai', [1, 2], 2.4)"
      ]
     },
     "execution_count": 22,
     "metadata": {},
     "output_type": "execute_result"
    }
   ],
   "source": [
    "test1(2,33,44,\"vishal\",\"rai\",[1,2],2.4)"
   ]
  },
  {
   "cell_type": "code",
   "execution_count": null,
   "id": "8a3210a5-a23e-4603-9c65-5cb0061bd954",
   "metadata": {},
   "outputs": [],
   "source": [
    "Q3.  What is an iterator in python? Name the method used to initialise the iterator object and the method \n",
    "used for iteration. Use these methods to print the first five elements of the given list [2, 4, 6, 8, 10, 12, 14,16,18,20].\n",
    "\n",
    "Answer: Iterator in Python is an object that is used to iterate over iterable objects like lists, tuples, dicts, and sets.\n",
    "The __iter__() method is called when an iterator object is created, and it should return the iterator object itself. \n",
    "The __next__() method is called to get the next value from the iterator, and should raise a StopIteration exception when there are no more values."
   ]
  },
  {
   "cell_type": "code",
   "execution_count": 23,
   "id": "b6f0e724-62fb-4a31-950c-0f281a7fa242",
   "metadata": {},
   "outputs": [
    {
     "name": "stdout",
     "output_type": "stream",
     "text": [
      "2\n",
      "4\n",
      "6\n",
      "8\n",
      "10\n"
     ]
    }
   ],
   "source": [
    "l = [2, 4, 6, 8, 10, 12, 14, 16, 18, 20]\n",
    "m= iter(l)\n",
    "print(next(m)) \n",
    "print(next(m)) \n",
    "print(next(m)) \n",
    "print(next(m)) \n",
    "print(next(m)) \n"
   ]
  },
  {
   "cell_type": "code",
   "execution_count": 24,
   "id": "e160e1c5-c55f-455b-92f2-a26a535f99c8",
   "metadata": {},
   "outputs": [],
   "source": [
    "Q4.  What is a generator function in python? Why yield keyword is used? Give an example of a generator function.\n",
    "\n",
    "Answer: A generator function in Python is a type of function that returns an iterator object, which can be used to iterate over a series of values. \n",
    "The yield keyword is used in Python to return a value from a generator function and pause execution, so that the function can be resumed later to generate more values.\n",
    "\n",
    "\n",
    "def test_fib(n):\n",
    "    a,b=0,1\n",
    "    for i in range(n):\n",
    "        yield a\n",
    "        a,b=b,a+b\n",
    "\n",
    "\n"
   ]
  },
  {
   "cell_type": "code",
   "execution_count": 26,
   "id": "479334f7-267f-4b82-b766-7819b75583ff",
   "metadata": {},
   "outputs": [
    {
     "name": "stdout",
     "output_type": "stream",
     "text": [
      "0\n",
      "1\n",
      "1\n",
      "2\n",
      "3\n",
      "5\n",
      "8\n",
      "13\n"
     ]
    }
   ],
   "source": [
    "for i in test_fib(8):\n",
    "    print(i)"
   ]
  },
  {
   "cell_type": "code",
   "execution_count": null,
   "id": "039a8088-048e-4314-8a88-d0605c5e62dc",
   "metadata": {},
   "outputs": [],
   "source": []
  },
  {
   "cell_type": "code",
   "execution_count": 6,
   "id": "912da139-d877-4792-8fb8-1db9ad3c3e14",
   "metadata": {},
   "outputs": [
    {
     "name": "stdin",
     "output_type": "stream",
     "text": [
      "Enter range: 1000\n"
     ]
    },
    {
     "name": "stdout",
     "output_type": "stream",
     "text": [
      "Prime numbers: 1 2 3 5 7 11 13 17 19 23 29 31 37 41 43 47 53 59 61 67 71 73 79 83 89 97 101 103 107 109 113 127 131 137 139 149 151 157 163 167 173 179 181 191 193 197 199 211 223 227 229 233 239 241 251 257 263 269 271 277 281 283 293 307 311 313 317 331 337 347 349 353 359 367 373 379 383 389 397 401 409 419 421 431 433 439 443 449 457 461 463 467 479 487 491 499 503 509 521 523 541 547 557 563 569 571 577 587 593 599 601 607 613 617 619 631 641 643 647 653 659 661 673 677 683 691 701 709 719 727 733 739 743 751 757 761 769 773 787 797 809 811 821 823 827 829 839 853 857 859 863 877 881 883 887 907 911 919 929 937 941 947 953 967 971 977 983 991 997 "
     ]
    }
   ],
   "source": [
    "Q5. Create a generator function for prime numbers less than 1000. Use the next() method to print the first 20 prime numbers.\n",
    "num=int(input(\"Enter range:\"))\n",
    "\n",
    "print(\"Prime numbers:\",end=' ')\n",
    "\n",
    "for n in range(1,num):\n",
    "\n",
    "    for i in range(2,n):\n",
    "\n",
    "        if(n%i==0):\n",
    "\n",
    "            break\n",
    "\n",
    "    else:\n",
    "\n",
    "        print(n,end=' ')             \n",
    "            \n",
    "        "
   ]
  },
  {
   "cell_type": "code",
   "execution_count": 9,
   "id": "81d08504-7170-4f81-94f1-a7b829326426",
   "metadata": {},
   "outputs": [
    {
     "ename": "SyntaxError",
     "evalue": "expected ':' (974710830.py, line 9)",
     "output_type": "error",
     "traceback": [
      "\u001b[0;36m  Cell \u001b[0;32mIn [9], line 9\u001b[0;36m\u001b[0m\n\u001b[0;31m    def generate_primes()\u001b[0m\n\u001b[0m                         ^\u001b[0m\n\u001b[0;31mSyntaxError\u001b[0m\u001b[0;31m:\u001b[0m expected ':'\n"
     ]
    }
   ],
   "source": [
    "\n"
   ]
  },
  {
   "cell_type": "code",
   "execution_count": 34,
   "id": "58339fca-d97b-47bc-b55f-1f6d89216a1c",
   "metadata": {},
   "outputs": [
    {
     "name": "stdin",
     "output_type": "stream",
     "text": [
      "enter the number of element you are looking for 10\n"
     ]
    },
    {
     "name": "stdout",
     "output_type": "stream",
     "text": [
      "0\n",
      "1\n",
      "1\n",
      "2\n",
      "3\n",
      "5\n",
      "8\n",
      "13\n",
      "21\n",
      "34\n"
     ]
    }
   ],
   "source": [
    "Q6. Write a python program to print the first 10 Fibonacci numbers using a while loop.\n",
    "\n",
    "number=int(input(\"enter the number of element you are looking for\"))\n",
    "a,b=0,1\n",
    "counter=0\n",
    "while counter <number:\n",
    "    print(a)\n",
    "    c=a+b\n",
    "    a=b\n",
    "    b=c\n",
    "    counter=counter+1\n"
   ]
  },
  {
   "cell_type": "code",
   "execution_count": 36,
   "id": "578e781e-b0e7-4ea4-b4fe-f07319cacb34",
   "metadata": {},
   "outputs": [
    {
     "data": {
      "text/plain": [
       "['p', 'w', 's', 'k', 'i', 'l', 'l', 's']"
      ]
     },
     "execution_count": 36,
     "metadata": {},
     "output_type": "execute_result"
    }
   ],
   "source": [
    "Q7. Write a List Comprehension to iterate through the given string: ‘pwskills’.\n",
    "Expected output: ['p', 'w', 's', 'k', 'i', 'l', 'l', 's']\n",
    "\n",
    "l=\"pwskills\"\n",
    "[i.lower() for i in l]"
   ]
  },
  {
   "cell_type": "code",
   "execution_count": null,
   "id": "a0c58884-068c-492d-b836-27df38694d19",
   "metadata": {},
   "outputs": [],
   "source": [
    "Q8. Write a python program to check whether a given number is Palindrome or not using a while loop.\n",
    "\n",
    "num = int(input(\"Enter a number: \"))\n",
    "temp = num\n",
    "reverse = 0\n",
    "\n",
    "while temp > 0:\n",
    "    digit = temp % 10\n",
    "    reverse = reverse * 10 + digit\n",
    "    temp //= 10\n",
    "\n",
    "if num == reverse:\n",
    "    print(num, \"is a palindrome number\")\n",
    "else:\n",
    "    print(num, \"is not a palindrome number\")\n"
   ]
  },
  {
   "cell_type": "code",
   "execution_count": null,
   "id": "10618228-7b2a-4515-96a9-33a1c738283c",
   "metadata": {},
   "outputs": [],
   "source": [
    "Q9.Write a code to print odd numbers from 1 to 100 using list comprehension.\n",
    "\n",
    "Note: Use a list comprehension to create a list from 1 to 100 and use another List comprehension to filter \n",
    "out odd numbers.\n",
    "[x for x in range(1, 101)]\n",
    "\n",
    "[x for x in range(1, 101) if x % 2 != 0]\n",
    "\n"
   ]
  },
  {
   "cell_type": "code",
   "execution_count": null,
   "id": "b72d4aba-91ee-416e-a99d-74b4aae6c7dd",
   "metadata": {},
   "outputs": [],
   "source": []
  },
  {
   "cell_type": "code",
   "execution_count": null,
   "id": "63d94e4a-2846-46a5-ac80-ff4cfd281027",
   "metadata": {},
   "outputs": [],
   "source": []
  },
  {
   "cell_type": "code",
   "execution_count": null,
   "id": "9a41cdc1-db80-490c-a4db-7bade48485fc",
   "metadata": {},
   "outputs": [],
   "source": []
  },
  {
   "cell_type": "code",
   "execution_count": null,
   "id": "8f4cf96b-5454-4508-be91-4c7997c2dfa4",
   "metadata": {},
   "outputs": [],
   "source": []
  },
  {
   "cell_type": "code",
   "execution_count": null,
   "id": "caaecd46-557f-4a85-a868-813fa86eb475",
   "metadata": {},
   "outputs": [],
   "source": []
  },
  {
   "cell_type": "code",
   "execution_count": null,
   "id": "98c80e84-9a51-4a73-b020-191f700bbc1a",
   "metadata": {},
   "outputs": [],
   "source": []
  }
 ],
 "metadata": {
  "kernelspec": {
   "display_name": "Python 3 (ipykernel)",
   "language": "python",
   "name": "python3"
  },
  "language_info": {
   "codemirror_mode": {
    "name": "ipython",
    "version": 3
   },
   "file_extension": ".py",
   "mimetype": "text/x-python",
   "name": "python",
   "nbconvert_exporter": "python",
   "pygments_lexer": "ipython3",
   "version": "3.10.6"
  }
 },
 "nbformat": 4,
 "nbformat_minor": 5
}
