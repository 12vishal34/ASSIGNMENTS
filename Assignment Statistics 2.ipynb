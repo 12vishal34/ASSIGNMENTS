{
 "cells": [
  {
   "cell_type": "code",
   "execution_count": null,
   "id": "942ad517-a6f3-4ba6-8073-58cc1c65543a",
   "metadata": {},
   "outputs": [],
   "source": [
    "Q1. What are the three measures of central tendency?"
   ]
  },
  {
   "cell_type": "code",
   "execution_count": null,
   "id": "ea09ba7a-60d6-4987-9105-6d8036d7de73",
   "metadata": {},
   "outputs": [],
   "source": [
    "Answer: The three measures of central tendency are:\n",
    "\n",
    "Mean: It is the arithmetic average of a dataset, obtained by adding all the values in the dataset and then dividing by the number of values.\n",
    "\n",
    "Median: It is the middle value in a dataset when the values are arranged in order.\n",
    "\n",
    "Mode: It is the value that appears most frequently in a dataset.\n",
    "\n",
    "\n",
    "\n"
   ]
  },
  {
   "cell_type": "code",
   "execution_count": null,
   "id": "54f222d9-6eb0-4d39-a810-86be4eb3d2df",
   "metadata": {},
   "outputs": [],
   "source": [
    "Q2. What is the difference between the mean, median, and mode? How are they used to measure the\n",
    "central tendency of a dataset?"
   ]
  },
  {
   "cell_type": "code",
   "execution_count": null,
   "id": "1a8aa36f-5b3e-400c-ba37-9d8789054b9b",
   "metadata": {},
   "outputs": [],
   "source": [
    "Answer: Mean, median, and mode are the three measures of central tendency in statistics.\n",
    "Mean is the arithmetic average of the dataset, median is the middle value when the data is arranged in ascending or descending order, and mode is the most frequently occurring value in the dataset.\n",
    "\n",
    "These measures are used to identify the center or typical value of a dataset. Mean is useful when the data is normally distributed, while median is useful when there are outliers in the data. Mode is useful when the data has a lot of repetition or has multiple peaks.\n",
    "\n",
    "\n",
    "\n"
   ]
  },
  {
   "cell_type": "code",
   "execution_count": null,
   "id": "2b392bb0-91e6-4988-a625-3ce8a72171b3",
   "metadata": {},
   "outputs": [],
   "source": [
    "Q3. Measure the three measures of central tendency for the given height data:\n",
    "[178,177,176,177,178.2,178,175,179,180,175,178.9,176.2,177,172.5,178,176.5]"
   ]
  },
  {
   "cell_type": "code",
   "execution_count": 4,
   "id": "283c5ec4-621f-4f9d-bf1a-060b1265735a",
   "metadata": {},
   "outputs": [
    {
     "name": "stdout",
     "output_type": "stream",
     "text": [
      "Mean: 177.01875\n",
      "Median: 177.0\n",
      "Mode: ModeResult(mode=array([177.]), count=array([3]))\n"
     ]
    },
    {
     "name": "stderr",
     "output_type": "stream",
     "text": [
      "/tmp/ipykernel_1276/186146621.py:6: FutureWarning: Unlike other reduction functions (e.g. `skew`, `kurtosis`), the default behavior of `mode` typically preserves the axis it acts along. In SciPy 1.11.0, this behavior will change: the default value of `keepdims` will become False, the `axis` over which the statistic is taken will be eliminated, and the value None will no longer be accepted. Set `keepdims` to True or False to avoid this warning.\n",
      "  mode=stat.mode(height_data)\n"
     ]
    }
   ],
   "source": [
    "import numpy as np\n",
    "import scipy.stats as stat\n",
    "height_data=[178,177,176,177,178.2,178,175,179,180,175,178.9,176.2,177,172.5,178,176.5]\n",
    "mean=np.mean(height_data)\n",
    "median=np.median(height_data)\n",
    "mode=stat.mode(height_data)\n",
    "print(\"Mean:\", mean)\n",
    "print(\"Median:\", median)\n",
    "print(\"Mode:\", mode)\n",
    "\n"
   ]
  },
  {
   "cell_type": "code",
   "execution_count": null,
   "id": "cf7e0969-5666-4c23-840c-3deb84931eaa",
   "metadata": {},
   "outputs": [],
   "source": [
    "Q4. Find the standard deviation for the given data:\n",
    "[178,177,176,177,178.2,178,175,179,180,175,178.9,176.2,177,172.5,178,176.5]"
   ]
  },
  {
   "cell_type": "code",
   "execution_count": 2,
   "id": "dcc5bbb4-5a88-4163-835d-14222b4a8805",
   "metadata": {},
   "outputs": [
    {
     "name": "stdout",
     "output_type": "stream",
     "text": [
      "Standard deviation: 1.7885814036548633\n"
     ]
    }
   ],
   "source": [
    "import numpy as np\n",
    "\n",
    "data = [178,177,176,177,178.2,178,175,179,180,175,178.9,176.2,177,172.5,178,176.5]\n",
    "\n",
    "std = np.std(data)\n",
    "\n",
    "print(\"Standard deviation:\", std)\n"
   ]
  },
  {
   "cell_type": "code",
   "execution_count": null,
   "id": "f686de24-b6e8-4dc7-aa09-e723cc893e48",
   "metadata": {},
   "outputs": [],
   "source": [
    "Q5. How are measures of dispersion such as range, variance, and standard deviation used to describe\n",
    "the spread of a dataset? Provide an example."
   ]
  },
  {
   "cell_type": "code",
   "execution_count": null,
   "id": "7f064da0-1c01-4a1a-8e63-796366f98bdb",
   "metadata": {},
   "outputs": [],
   "source": [
    "Answer: Measures of dispersion, such as range, variance, and standard deviation, are used to describe the spread or variability of a dataset. \n",
    "Range is the difference between the maximum and minimum values in a dataset, and it provides a quick way to estimate the spread.\n",
    "Variance measures how much the individual data points deviate from the mean, and it is calculated by finding the average of the squared differences between each data point and the mean. \n",
    "Standard deviation is the square root of the variance and provides a measure of the spread of the data in the same units as the original data. \n",
    "For example, if we have a dataset of test scores, the range can tell us how far apart the highest and lowest scores are, the variance can tell us how spread out the scores are from the average, and the standard deviation can tell us how much the scores vary from the average in the same units as the original scores."
   ]
  },
  {
   "cell_type": "code",
   "execution_count": null,
   "id": "81e2a3ac-ece9-4d5c-83f7-5dd20f495411",
   "metadata": {},
   "outputs": [],
   "source": [
    "Q6. What is a Venn diagram?"
   ]
  },
  {
   "cell_type": "code",
   "execution_count": null,
   "id": "7f25a240-22d3-4877-8845-3848672d4685",
   "metadata": {},
   "outputs": [],
   "source": [
    "Answer: A Venn diagram is a graphical representation of sets, showing all possible logical relations between them.\n",
    "It is typically composed of overlapping circles or other shapes, with each circle representing a set and the overlap between them representing the intersection of those sets. \n",
    "Venn diagrams are often used to visualize relationships between data sets, to aid in problem solving and decision making."
   ]
  },
  {
   "cell_type": "code",
   "execution_count": null,
   "id": "614bbd90-0471-4305-815e-ce1a999cf6bf",
   "metadata": {},
   "outputs": [],
   "source": [
    "Q7. For the two given sets A = (2,3,4,5,6,7) & B = (0,2,6,8,10). Find:\n",
    "(i) A B\n",
    "(ii) A ⋃ B"
   ]
  },
  {
   "cell_type": "code",
   "execution_count": null,
   "id": "f9c22954-e33d-49b7-9685-77c82396ba4a",
   "metadata": {},
   "outputs": [],
   "source": [
    "Answer:(i) The intersection of A and B  is the set of elements that are common to both A and B. Since A and B have only one element in common (i.e., 6), The intersection of A and B = {6}.\n",
    "\n",
    "       (ii) The union of A and B is the set of elements that are in either A or B, or in both. Therefore, The Union of A and B = {0, 2, 3, 4, 5, 6, 7, 8, 10}."
   ]
  },
  {
   "cell_type": "code",
   "execution_count": null,
   "id": "13ff9069-cef8-48ef-b39a-e1db8adf55ca",
   "metadata": {},
   "outputs": [],
   "source": [
    "Q8. What do you understand about skewness in data?"
   ]
  },
  {
   "cell_type": "code",
   "execution_count": null,
   "id": "517f06c4-41cd-4ef1-9e1b-082f274dc98f",
   "metadata": {},
   "outputs": [],
   "source": [
    "Answer: Skewness in data is a measure of the asymmetry of the probability distribution of a variable.\n",
    "It refers to the extent to which a distribution is not symmetric around its mean.\n",
    "Skewness can be positive, indicating that the distribution has a longer tail on the right side, or negative, indicating that the distribution has a longer tail on the left side. \n",
    "Skewness can affect the interpretation of statistical analyses, particularly measures of central tendency and dispersion.\n",
    "\n",
    "\n",
    "\n"
   ]
  },
  {
   "cell_type": "code",
   "execution_count": null,
   "id": "595e3d20-de2c-4e06-ada0-4e70dd1292ab",
   "metadata": {},
   "outputs": [],
   "source": [
    "Q9. If a data is right skewed then what will be the position of median with respect to mean?"
   ]
  },
  {
   "cell_type": "code",
   "execution_count": null,
   "id": "1cc2b8bf-0d82-466a-9c47-5d29d7b75646",
   "metadata": {},
   "outputs": [],
   "source": [
    "Answer: If a data is right skewed, the median will be to the left of the mean. \n",
    "In other words, the mean will be greater than the median.\n",
    "This is because in a right-skewed distribution, the tail of the distribution is longer on the right-hand side, which pulls the mean in that direction.\n",
    "The median, on the other hand, is less affected by extreme values and is more representative of the center of the distribution, so it is less affected by the skewness."
   ]
  },
  {
   "cell_type": "code",
   "execution_count": null,
   "id": "a22a6662-a883-4ab8-bfda-0bc773c3530c",
   "metadata": {},
   "outputs": [],
   "source": [
    "Q10. Explain the difference between covariance and correlation. How are these measures used in\n",
    "statistical analysis?"
   ]
  },
  {
   "cell_type": "code",
   "execution_count": null,
   "id": "de6d8bac-c725-4ec0-bfef-750d8be8c3df",
   "metadata": {},
   "outputs": [],
   "source": [
    "Answer: Covariance and correlation are both measures of the relationship between two variables.\n",
    "Covariance measures how much two variables change together, while correlation measures the strength and direction of the linear relationship between two variables after they have been standardized. \n",
    "In other words, covariance is affected by the scale of the variables, while correlation is not.\n",
    "Correlation is typically used more often than covariance because it gives a standardized measure of the relationship between two variables that can be compared across different datasets.\n",
    "Both covariance and correlation are used in statistical analysis to understand the relationship between two variables and to make predictions or inferences about one variable based on the other."
   ]
  },
  {
   "cell_type": "code",
   "execution_count": null,
   "id": "e7431d5b-7153-404b-9939-a13c774878c9",
   "metadata": {},
   "outputs": [],
   "source": [
    "Q11. What is the formula for calculating the sample mean? Provide an example calculation for a\n",
    "dataset."
   ]
  },
  {
   "cell_type": "code",
   "execution_count": null,
   "id": "85d0a9c1-28a9-4fb3-9c79-4003fdbc39f4",
   "metadata": {},
   "outputs": [],
   "source": [
    "Answer:  formula for calculating the sample mean (x̄) is:   x̄ = (Σx) / n\n",
    "where Σx is the sum of all the data points and n is the number of data points.\n",
    "\n",
    "Example calculation:\n",
    "Suppose we have the following dataset of exam scores for 5 students: 80, 85, 90, 75, 95.\n",
    "\n",
    "To find the sample mean:\n",
    "x̄ = (80 + 85 + 90 + 75 + 95) / 5 = 425 / 5 = 85\n",
    "\n",
    "Therefore, the sample mean for this dataset is 85.\n",
    "\n",
    "\n",
    "\n"
   ]
  },
  {
   "cell_type": "code",
   "execution_count": null,
   "id": "19f40708-e617-4abe-aaef-1833f8dc6854",
   "metadata": {},
   "outputs": [],
   "source": [
    "Q12. For a normal distribution data what is the relationship between its measure of central tendency?"
   ]
  },
  {
   "cell_type": "code",
   "execution_count": null,
   "id": "b8233a98-726a-4268-9a76-6504520acd5a",
   "metadata": {},
   "outputs": [],
   "source": [
    "Answer: For a normal distribution, the mean, median, and mode are all equal."
   ]
  },
  {
   "cell_type": "code",
   "execution_count": null,
   "id": "4e8709c8-8ae3-4aa1-b3e6-8495b4df1f76",
   "metadata": {},
   "outputs": [],
   "source": [
    "Q13. How is covariance different from correlation?"
   ]
  },
  {
   "cell_type": "code",
   "execution_count": null,
   "id": "9f16bd7f-8dfe-4d9c-b773-41a32f68d629",
   "metadata": {},
   "outputs": [],
   "source": [
    "Answer: Covariance and correlation are both measures of the relationship between two variables.\n",
    "However, covariance measures the direction and strength of the linear relationship between two variables, while correlation measures the strength and direction of the linear relationship between two variables after they have been standardized. \n",
    "In other words, covariance is affected by the scale of the variables, while correlation is not. \n",
    "Additionally, the correlation coefficient ranges from -1 to 1, while covariance can take on any value."
   ]
  },
  {
   "cell_type": "code",
   "execution_count": null,
   "id": "cadd79c0-84f8-4f6c-92ce-2d4168efd9aa",
   "metadata": {},
   "outputs": [],
   "source": [
    "Q14. How do outliers affect measures of central tendency and dispersion? Provide an example."
   ]
  },
  {
   "cell_type": "code",
   "execution_count": null,
   "id": "b339c2fb-95ee-4d59-b1c2-0390cc8c3fef",
   "metadata": {},
   "outputs": [],
   "source": [
    "Answer: Outliers can significantly affect measures of central tendency and dispersion by either pulling them towards or away from the center. \n",
    "For example, if a dataset contains an outlier that is much larger than the other values, the mean will be skewed towards the outlier, making it a less representative measure of central tendency.\n",
    "Similarly, if a dataset contains an outlier that is much smaller than the other values, the standard deviation will be inflated, making it a less accurate measure of dispersion. \n",
    "Therefore, it is important to identify and handle outliers appropriately before analyzing a dataset.\n",
    "\n",
    "\n",
    "\n"
   ]
  },
  {
   "cell_type": "code",
   "execution_count": null,
   "id": "b96f2f2b-6c59-4002-95c4-8a23bcceea55",
   "metadata": {},
   "outputs": [],
   "source": []
  }
 ],
 "metadata": {
  "kernelspec": {
   "display_name": "Python 3 (ipykernel)",
   "language": "python",
   "name": "python3"
  },
  "language_info": {
   "codemirror_mode": {
    "name": "ipython",
    "version": 3
   },
   "file_extension": ".py",
   "mimetype": "text/x-python",
   "name": "python",
   "nbconvert_exporter": "python",
   "pygments_lexer": "ipython3",
   "version": "3.10.6"
  }
 },
 "nbformat": 4,
 "nbformat_minor": 5
}
